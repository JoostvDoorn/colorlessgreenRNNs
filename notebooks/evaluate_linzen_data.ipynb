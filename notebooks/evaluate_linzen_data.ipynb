{
 "cells": [
  {
   "cell_type": "code",
   "execution_count": 134,
   "metadata": {
    "collapsed": true
   },
   "outputs": [],
   "source": [
    "import pandas as pd"
   ]
  },
  {
   "cell_type": "code",
   "execution_count": 135,
   "metadata": {},
   "outputs": [],
   "source": [
    "import sys\n",
    "sys.path.append(\"/private/home/gulordava/tal_data/rnn_agreement/rnnagr/\")\n"
   ]
  },
  {
   "cell_type": "code",
   "execution_count": 136,
   "metadata": {},
   "outputs": [],
   "source": [
    "import utils\n",
    "import importlib\n",
    "\n",
    "utils = importlib.reload(utils)"
   ]
  },
  {
   "cell_type": "markdown",
   "metadata": {},
   "source": [
    "## Preparing the data"
   ]
  },
  {
   "cell_type": "code",
   "execution_count": 137,
   "metadata": {},
   "outputs": [],
   "source": [
    "subj_agr_data = pd.read_csv(\"/private/home/gulordava/tal_data/agr_50_mostcommon_10K.tsv\", sep=\"\\t\")"
   ]
  },
  {
   "cell_type": "markdown",
   "metadata": {},
   "source": [
    "Extract only sentences with attractors of the opposite plurality"
   ]
  },
  {
   "cell_type": "code",
   "execution_count": 138,
   "metadata": {},
   "outputs": [],
   "source": [
    "int_df = subj_agr_data[subj_agr_data.n_intervening == subj_agr_data.n_diff_intervening]"
   ]
  },
  {
   "cell_type": "code",
   "execution_count": 139,
   "metadata": {},
   "outputs": [
    {
     "data": {
      "text/html": [
       "<div>\n",
       "<style>\n",
       "    .dataframe thead tr:only-child th {\n",
       "        text-align: right;\n",
       "    }\n",
       "\n",
       "    .dataframe thead th {\n",
       "        text-align: left;\n",
       "    }\n",
       "\n",
       "    .dataframe tbody tr th {\n",
       "        vertical-align: top;\n",
       "    }\n",
       "</style>\n",
       "<table border=\"1\" class=\"dataframe\">\n",
       "  <thead>\n",
       "    <tr style=\"text-align: right;\">\n",
       "      <th></th>\n",
       "      <th>sentence</th>\n",
       "      <th>orig_sentence</th>\n",
       "      <th>pos_sentence</th>\n",
       "      <th>subj</th>\n",
       "      <th>verb</th>\n",
       "      <th>subj_pos</th>\n",
       "      <th>has_rel</th>\n",
       "      <th>has_nsubj</th>\n",
       "      <th>verb_pos</th>\n",
       "      <th>subj_index</th>\n",
       "      <th>verb_index</th>\n",
       "      <th>n_intervening</th>\n",
       "      <th>last_intervening</th>\n",
       "      <th>n_diff_intervening</th>\n",
       "      <th>distance</th>\n",
       "      <th>max_depth</th>\n",
       "      <th>all_nouns</th>\n",
       "      <th>nouns_up_to_verb</th>\n",
       "    </tr>\n",
       "  </thead>\n",
       "  <tbody>\n",
       "    <tr>\n",
       "      <th>0</th>\n",
       "      <td>NNP and NNP VBD prints are not the issue .</td>\n",
       "      <td>a0 and a1 sized prints are not the issue .</td>\n",
       "      <td>NNP CC NNP VBD NNS VBP RB DT NN .</td>\n",
       "      <td>prints</td>\n",
       "      <td>are</td>\n",
       "      <td>NNS</td>\n",
       "      <td>False</td>\n",
       "      <td>False</td>\n",
       "      <td>VBP</td>\n",
       "      <td>5</td>\n",
       "      <td>6</td>\n",
       "      <td>0</td>\n",
       "      <td>na</td>\n",
       "      <td>0</td>\n",
       "      <td>1</td>\n",
       "      <td>0</td>\n",
       "      <td>prints issue</td>\n",
       "      <td>prints</td>\n",
       "    </tr>\n",
       "    <tr>\n",
       "      <th>1</th>\n",
       "      <td>a JJ NN ( or JJ or JJ NN ) is nothing but a JJ...</td>\n",
       "      <td>a 0-dimensional manifold ( or differentiable o...</td>\n",
       "      <td>DT JJ NN ( CC JJ CC JJ NN ) VBZ NN CC DT JJ JJ...</td>\n",
       "      <td>manifold</td>\n",
       "      <td>is</td>\n",
       "      <td>NN</td>\n",
       "      <td>False</td>\n",
       "      <td>False</td>\n",
       "      <td>VBZ</td>\n",
       "      <td>9</td>\n",
       "      <td>11</td>\n",
       "      <td>0</td>\n",
       "      <td>na</td>\n",
       "      <td>0</td>\n",
       "      <td>2</td>\n",
       "      <td>0</td>\n",
       "      <td>NN NN nothing space</td>\n",
       "      <td>NN NN</td>\n",
       "    </tr>\n",
       "  </tbody>\n",
       "</table>\n",
       "</div>"
      ],
      "text/plain": [
       "                                            sentence  \\\n",
       "0         NNP and NNP VBD prints are not the issue .   \n",
       "1  a JJ NN ( or JJ or JJ NN ) is nothing but a JJ...   \n",
       "\n",
       "                                       orig_sentence  \\\n",
       "0         a0 and a1 sized prints are not the issue .   \n",
       "1  a 0-dimensional manifold ( or differentiable o...   \n",
       "\n",
       "                                        pos_sentence      subj verb subj_pos  \\\n",
       "0                  NNP CC NNP VBD NNS VBP RB DT NN .    prints  are      NNS   \n",
       "1  DT JJ NN ( CC JJ CC JJ NN ) VBZ NN CC DT JJ JJ...  manifold   is       NN   \n",
       "\n",
       "   has_rel  has_nsubj verb_pos  subj_index  verb_index  n_intervening  \\\n",
       "0    False      False      VBP           5           6              0   \n",
       "1    False      False      VBZ           9          11              0   \n",
       "\n",
       "  last_intervening  n_diff_intervening  distance  max_depth  \\\n",
       "0               na                   0         1          0   \n",
       "1               na                   0         2          0   \n",
       "\n",
       "             all_nouns nouns_up_to_verb  \n",
       "0         prints issue           prints  \n",
       "1  NN NN nothing space            NN NN  "
      ]
     },
     "execution_count": 139,
     "metadata": {},
     "output_type": "execute_result"
    }
   ],
   "source": [
    "int_df[:2]"
   ]
  },
  {
   "cell_type": "markdown",
   "metadata": {},
   "source": [
    "Keeping only sentences where the context is in the LM vocabulary"
   ]
  },
  {
   "cell_type": "code",
   "execution_count": 140,
   "metadata": {
    "collapsed": true
   },
   "outputs": [],
   "source": [
    "vocab = open(\"/private/home/gulordava/edouard_data/enwiki/50K_vocab/vocab.txt\").read().split()"
   ]
  },
  {
   "cell_type": "code",
   "execution_count": 141,
   "metadata": {
    "collapsed": true
   },
   "outputs": [],
   "source": [
    "def in_vocab(row):\n",
    "    return all([w in vocab for w in row[\"orig_sentence\"].split()[row[\"subj_index\"] - 1:row[\"verb_index\"]]])"
   ]
  },
  {
   "cell_type": "code",
   "execution_count": 143,
   "metadata": {},
   "outputs": [
    {
     "name": "stderr",
     "output_type": "stream",
     "text": [
      "/private/home/gulordava/anaconda3/lib/python3.6/site-packages/ipykernel_launcher.py:1: SettingWithCopyWarning: \n",
      "A value is trying to be set on a copy of a slice from a DataFrame.\n",
      "Try using .loc[row_indexer,col_indexer] = value instead\n",
      "\n",
      "See the caveats in the documentation: http://pandas.pydata.org/pandas-docs/stable/indexing.html#indexing-view-versus-copy\n",
      "  \"\"\"Entry point for launching an IPython kernel.\n"
     ]
    }
   ],
   "source": [
    "int_df[\"in_vocab\"] = int_df.apply(in_vocab, axis=1)"
   ]
  },
  {
   "cell_type": "code",
   "execution_count": 144,
   "metadata": {},
   "outputs": [
    {
     "data": {
      "text/plain": [
       "n_intervening\n",
       "0     1175504\n",
       "1       43023\n",
       "2        6979\n",
       "3        1329\n",
       "4         347\n",
       "5          94\n",
       "6          39\n",
       "7          21\n",
       "8           2\n",
       "9           3\n",
       "11          1\n",
       "dtype: int64"
      ]
     },
     "execution_count": 144,
     "metadata": {},
     "output_type": "execute_result"
    }
   ],
   "source": [
    "int_df[int_df.in_vocab].groupby([\"n_intervening\"]).size()"
   ]
  },
  {
   "cell_type": "markdown",
   "metadata": {},
   "source": [
    "Keep only sentences where the target verb and its pair form of the opposite number are both in vocabulary"
   ]
  },
  {
   "cell_type": "code",
   "execution_count": 145,
   "metadata": {},
   "outputs": [],
   "source": [
    "infl_map = utils.gen_inflect_from_vocab(\"/private/home/gulordava/tal_data/rnn_agreement/data/wiki.vocab\")[0]"
   ]
  },
  {
   "cell_type": "code",
   "execution_count": 146,
   "metadata": {},
   "outputs": [
    {
     "name": "stderr",
     "output_type": "stream",
     "text": [
      "/private/home/gulordava/anaconda3/lib/python3.6/site-packages/ipykernel_launcher.py:2: SettingWithCopyWarning: \n",
      "A value is trying to be set on a copy of a slice from a DataFrame.\n",
      "Try using .loc[row_indexer,col_indexer] = value instead\n",
      "\n",
      "See the caveats in the documentation: http://pandas.pydata.org/pandas-docs/stable/indexing.html#indexing-view-versus-copy\n",
      "  \n"
     ]
    }
   ],
   "source": [
    "df = int_df[int_df.in_vocab]\n",
    "df[\"alt_verb\"] = df.verb.map(infl_map)\n",
    "df = df[df.alt_verb.isin(vocab)]"
   ]
  },
  {
   "cell_type": "code",
   "execution_count": 147,
   "metadata": {},
   "outputs": [
    {
     "data": {
      "text/plain": [
       "n_intervening\n",
       "0     1175374\n",
       "1       43018\n",
       "2        6979\n",
       "3        1329\n",
       "4         347\n",
       "5          94\n",
       "6          39\n",
       "7          21\n",
       "8           2\n",
       "9           3\n",
       "11          1\n",
       "dtype: int64"
      ]
     },
     "execution_count": 147,
     "metadata": {},
     "output_type": "execute_result"
    }
   ],
   "source": [
    "df.groupby(\"n_intervening\").size()"
   ]
  },
  {
   "cell_type": "markdown",
   "metadata": {},
   "source": [
    "Sampling a smaller number of sentences to avoid testing forever"
   ]
  },
  {
   "cell_type": "code",
   "execution_count": 148,
   "metadata": {},
   "outputs": [],
   "source": [
    "sample_size = 2000\n",
    "sampled = pd.DataFrame([], columns=int_df.columns)\n",
    "for i in range(5):\n",
    "    part = df[df[\"n_intervening\"] == i]\n",
    "    if len(part) < sample_size:\n",
    "        sampled = sampled.append(part)\n",
    "    else:\n",
    "        sampled = sampled.append(part.sample(sample_size))"
   ]
  },
  {
   "cell_type": "code",
   "execution_count": 149,
   "metadata": {},
   "outputs": [
    {
     "data": {
      "text/plain": [
       "n_intervening\n",
       "0    2000\n",
       "1    2000\n",
       "2    2000\n",
       "3    1329\n",
       "4     347\n",
       "dtype: int64"
      ]
     },
     "execution_count": 149,
     "metadata": {},
     "output_type": "execute_result"
    }
   ],
   "source": [
    "sampled.groupby([\"n_intervening\"]).size()"
   ]
  },
  {
   "cell_type": "markdown",
   "metadata": {},
   "source": [
    "Resample again to mix different parts"
   ]
  },
  {
   "cell_type": "code",
   "execution_count": 150,
   "metadata": {
    "collapsed": true
   },
   "outputs": [],
   "source": [
    "sampled = sampled.sample(len(sampled))"
   ]
  },
  {
   "cell_type": "markdown",
   "metadata": {},
   "source": [
    "Write down sentences for LM input and the gold data for evaluation"
   ]
  },
  {
   "cell_type": "code",
   "execution_count": 3,
   "metadata": {
    "collapsed": true
   },
   "outputs": [],
   "source": [
    "test_path = \"/private/home/gulordava/tal_data/subj_agr\""
   ]
  },
  {
   "cell_type": "code",
   "execution_count": 158,
   "metadata": {
    "collapsed": true
   },
   "outputs": [],
   "source": [
    "\n",
    "f = open(test_path + \".text\",\"w\")\n",
    "for s in sampled.orig_sentence:\n",
    "    f.write(s + \" <eos>\\n\")\n",
    "f.close()"
   ]
  },
  {
   "cell_type": "code",
   "execution_count": 156,
   "metadata": {},
   "outputs": [],
   "source": [
    "f = open(test_path + \".gold\",\"w\")\n",
    "for i, v in sampled.iterrows():\n",
    "    idx = str(v[\"verb_index\"] - 1)\n",
    "    f.write(idx + \"\\t\" + \"\\t\".join(str(x) for x in v[[\"verb\",\"alt_verb\",\"n_intervening\"]].values) + \"\\n\")\n",
    "f.close()"
   ]
  },
  {
   "cell_type": "code",
   "execution_count": 2,
   "metadata": {
    "collapsed": true
   },
   "outputs": [],
   "source": [
    "path_lm_data = \"/private/home/gulordava/edouard_data/enwiki/50K_vocab/\""
   ]
  },
  {
   "cell_type": "code",
   "execution_count": null,
   "metadata": {
    "collapsed": true
   },
   "outputs": [],
   "source": [
    "!python ~/lm_code/evaluate_last_word.py --data $path_lm_data \\\n",
    "    --checkpoint ~/lstm_hyperparameters_exps/English/models/hidden650_batch128_dropout0.2_lr10.0.pt \n",
    "    --cuda --path ~/tal_data/subj_agr --suffix h650"
   ]
  },
  {
   "cell_type": "markdown",
   "metadata": {},
   "source": [
    "## Evaluating the accuracy on verbs"
   ]
  },
  {
   "cell_type": "code",
   "execution_count": 52,
   "metadata": {},
   "outputs": [],
   "source": [
    "gold = open(test_path + \".gold\").readlines()\n",
    "sents = open(test_path + \".text\").readlines()\n",
    "output = open(test_path + \".output_median\").readlines()\n",
    "\n",
    "vocab = {w: i for i, w in enumerate(\n",
    "    open(path_lm_data + \"vocab.txt\",\"r\").read().split(\"\\t\"))}"
   ]
  },
  {
   "cell_type": "code",
   "execution_count": 35,
   "metadata": {},
   "outputs": [],
   "source": [
    "train = open(path_lm_data + \"train.txt\").read()"
   ]
  },
  {
   "cell_type": "code",
   "execution_count": 36,
   "metadata": {
    "scrolled": true
   },
   "outputs": [
    {
     "name": "stdout",
     "output_type": "stream",
     "text": [
      "in_train\n",
      "in_train\n",
      "in_train\n",
      "in_train\n",
      "in_train\n",
      "in_train\n",
      "in_train\n",
      "in_train\n",
      "in_train\n",
      "in_train\n",
      "in_train\n",
      "in_train\n",
      "in_train\n",
      "in_train\n",
      "in_train\n",
      "in_train\n",
      "in_train\n",
      "in_train\n",
      "in_train\n",
      "in_train\n",
      "in_train\n",
      "in_train\n",
      "in_train\n",
      "in_train\n",
      "in_train\n",
      "in_train\n",
      "in_train\n",
      "in_train\n",
      "in_train\n",
      "in_train\n",
      "in_train\n",
      "in_train\n",
      "in_train\n",
      "in_train\n",
      "in_train\n",
      "in_train\n",
      "in_train\n",
      "in_train\n",
      "in_train\n",
      "in_train\n",
      "in_train\n",
      "in_train\n",
      "in_train\n",
      "in_train\n",
      "in_train\n",
      "in_train\n",
      "in_train\n",
      "in_train\n",
      "in_train\n",
      "in_train\n",
      "in_train\n",
      "in_train\n",
      "in_train\n",
      "in_train\n",
      "in_train\n",
      "in_train\n",
      "in_train\n",
      "in_train\n",
      "in_train\n",
      "in_train\n",
      "in_train\n",
      "in_train\n",
      "in_train\n",
      "in_train\n",
      "in_train\n",
      "in_train\n",
      "in_train\n",
      "in_train\n",
      "in_train\n",
      "in_train\n",
      "in_train\n",
      "in_train\n",
      "in_train\n",
      "in_train\n",
      "in_train\n",
      "in_train\n",
      "in_train\n",
      "in_train\n",
      "in_train\n",
      "in_train\n",
      "in_train\n",
      "in_train\n",
      "in_train\n",
      "in_train\n",
      "in_train\n",
      "in_train\n",
      "in_train\n",
      "in_train\n",
      "in_train\n",
      "in_train\n",
      "in_train\n",
      "in_train\n",
      "in_train\n",
      "in_train\n",
      "in_train\n",
      "in_train\n",
      "in_train\n",
      "in_train\n",
      "in_train\n",
      "in_train\n",
      "in_train\n",
      "in_train\n",
      "in_train\n",
      "in_train\n",
      "in_train\n",
      "in_train\n",
      "in_train\n",
      "in_train\n",
      "in_train\n",
      "in_train\n",
      "in_train\n",
      "in_train\n",
      "in_train\n",
      "in_train\n",
      "in_train\n",
      "in_train\n",
      "in_train\n",
      "in_train\n",
      "in_train\n",
      "in_train\n",
      "in_train\n",
      "in_train\n",
      "in_train\n",
      "in_train\n",
      "in_train\n",
      "in_train\n",
      "in_train\n",
      "in_train\n",
      "in_train\n",
      "in_train\n",
      "in_train\n",
      "in_train\n",
      "in_train\n",
      "in_train\n",
      "in_train\n",
      "in_train\n",
      "in_train\n",
      "in_train\n",
      "in_train\n",
      "in_train\n",
      "in_train\n",
      "in_train\n",
      "in_train\n",
      "in_train\n",
      "in_train\n",
      "in_train\n",
      "in_train\n",
      "in_train\n",
      "in_train\n",
      "in_train\n",
      "in_train\n",
      "in_train\n",
      "in_train\n",
      "in_train\n",
      "in_train\n",
      "in_train\n",
      "in_train\n",
      "in_train\n",
      "in_train\n",
      "in_train\n",
      "in_train\n",
      "in_train\n",
      "in_train\n",
      "in_train\n",
      "in_train\n",
      "in_train\n",
      "in_train\n",
      "in_train\n",
      "in_train\n",
      "in_train\n",
      "in_train\n",
      "in_train\n",
      "in_train\n",
      "in_train\n",
      "in_train\n",
      "in_train\n",
      "in_train\n",
      "in_train\n",
      "in_train\n",
      "in_train\n",
      "in_train\n",
      "in_train\n",
      "in_train\n",
      "in_train\n",
      "in_train\n",
      "in_train\n",
      "in_train\n",
      "1438.0500497817993\n"
     ]
    }
   ],
   "source": [
    "import time\n",
    "start = time.time()\n",
    "in_train = {}\n",
    "for sent in sents:        \n",
    "    if sent[5:55] in train:\n",
    "        in_train[sent] = True\n",
    "        print(\"in_train\")\n",
    "print(time.time() - start)"
   ]
  },
  {
   "cell_type": "code",
   "execution_count": 26,
   "metadata": {},
   "outputs": [
    {
     "data": {
      "text/plain": [
       "55670264"
      ]
     },
     "execution_count": 26,
     "metadata": {},
     "output_type": "execute_result"
    }
   ],
   "source": [
    "len(train)"
   ]
  },
  {
   "cell_type": "code",
   "execution_count": 37,
   "metadata": {},
   "outputs": [
    {
     "data": {
      "text/plain": [
       "187"
      ]
     },
     "execution_count": 37,
     "metadata": {},
     "output_type": "execute_result"
    }
   ],
   "source": [
    "len(in_train)"
   ]
  },
  {
   "cell_type": "code",
   "execution_count": 30,
   "metadata": {},
   "outputs": [
    {
     "data": {
      "text/plain": [
       "7676"
      ]
     },
     "execution_count": 30,
     "metadata": {},
     "output_type": "execute_result"
    }
   ],
   "source": [
    "len(sents)"
   ]
  },
  {
   "cell_type": "code",
   "execution_count": 12,
   "metadata": {},
   "outputs": [
    {
     "data": {
      "text/plain": [
       "37755558"
      ]
     },
     "execution_count": 12,
     "metadata": {},
     "output_type": "execute_result"
    }
   ],
   "source": [
    "i"
   ]
  },
  {
   "cell_type": "code",
   "execution_count": 62,
   "metadata": {},
   "outputs": [],
   "source": [
    "data = []\n",
    "new_sents = []\n",
    "new_gold = []\n",
    "for g, sent, o in zip(gold, sents, output):\n",
    "    if not sent in in_train:\n",
    "        new_sents.append(sent)\n",
    "        new_gold.append(g)\n",
    "        scores = o.split()\n",
    "        idx, verb, alt_verb, n_interv = g.split()\n",
    "        prob_correct = float(scores[vocab[verb]])\n",
    "        prob_wrong = float(scores[vocab[alt_verb]])\n",
    "        data.append([verb, alt_verb, n_interv, prob_correct, prob_wrong])\n",
    "open(test_path + \"_filtered.gold\",\"w\").writelines(new_gold)\n",
    "open(test_path + \"_filtered.text\",\"w\").writelines(new_sents)\n"
   ]
  },
  {
   "cell_type": "code",
   "execution_count": 54,
   "metadata": {},
   "outputs": [
    {
     "data": {
      "text/html": [
       "<div>\n",
       "<style>\n",
       "    .dataframe thead tr:only-child th {\n",
       "        text-align: right;\n",
       "    }\n",
       "\n",
       "    .dataframe thead th {\n",
       "        text-align: left;\n",
       "    }\n",
       "\n",
       "    .dataframe tbody tr th {\n",
       "        vertical-align: top;\n",
       "    }\n",
       "</style>\n",
       "<table border=\"1\" class=\"dataframe\">\n",
       "  <thead>\n",
       "    <tr>\n",
       "      <th></th>\n",
       "      <th colspan=\"2\" halign=\"left\">acc</th>\n",
       "      <th>se</th>\n",
       "    </tr>\n",
       "    <tr>\n",
       "      <th></th>\n",
       "      <th>size</th>\n",
       "      <th>mean</th>\n",
       "      <th>se</th>\n",
       "    </tr>\n",
       "    <tr>\n",
       "      <th>n_interv</th>\n",
       "      <th></th>\n",
       "      <th></th>\n",
       "      <th></th>\n",
       "    </tr>\n",
       "  </thead>\n",
       "  <tbody>\n",
       "    <tr>\n",
       "      <th>0</th>\n",
       "      <td>1972</td>\n",
       "      <td>0.983266</td>\n",
       "      <td>0.002889</td>\n",
       "    </tr>\n",
       "    <tr>\n",
       "      <th>1</th>\n",
       "      <td>1957</td>\n",
       "      <td>0.949923</td>\n",
       "      <td>0.004931</td>\n",
       "    </tr>\n",
       "    <tr>\n",
       "      <th>2</th>\n",
       "      <td>1943</td>\n",
       "      <td>0.923314</td>\n",
       "      <td>0.006038</td>\n",
       "    </tr>\n",
       "    <tr>\n",
       "      <th>3</th>\n",
       "      <td>1287</td>\n",
       "      <td>0.895882</td>\n",
       "      <td>0.008517</td>\n",
       "    </tr>\n",
       "    <tr>\n",
       "      <th>4</th>\n",
       "      <td>330</td>\n",
       "      <td>0.900000</td>\n",
       "      <td>0.016540</td>\n",
       "    </tr>\n",
       "  </tbody>\n",
       "</table>\n",
       "</div>"
      ],
      "text/plain": [
       "           acc                  se\n",
       "          size      mean        se\n",
       "n_interv                          \n",
       "0         1972  0.983266  0.002889\n",
       "1         1957  0.949923  0.004931\n",
       "2         1943  0.923314  0.006038\n",
       "3         1287  0.895882  0.008517\n",
       "4          330  0.900000  0.016540"
      ]
     },
     "execution_count": 54,
     "metadata": {},
     "output_type": "execute_result"
    }
   ],
   "source": [
    "import pandas as pd\n",
    "from math import sqrt\n",
    "df = pd.DataFrame(data, columns=[\"form\",\"alt_form\",\"n_interv\",\"prob_correct\",\"prob_wrong\"])\n",
    "df[\"acc\"] = df.prob_correct > df.prob_wrong\n",
    "df[\"se\"] = df.groupby(\"n_interv\").acc.transform(lambda x : x.std()/sqrt(len(x)))\n",
    "\n",
    "df_g = df.groupby(\"n_interv\").agg({\"acc\": {\"mean\", \"size\"}, \"se\" : \"mean\"})\n",
    "df_g"
   ]
  },
  {
   "cell_type": "code",
   "execution_count": 55,
   "metadata": {},
   "outputs": [],
   "source": [
    "df_g = df_g.reset_index()"
   ]
  },
  {
   "cell_type": "code",
   "execution_count": 56,
   "metadata": {},
   "outputs": [
    {
     "name": "stdout",
     "output_type": "stream",
     "text": [
      "The rpy2.ipython extension is already loaded. To reload it, use:\n",
      "  %reload_ext rpy2.ipython\n"
     ]
    }
   ],
   "source": [
    "%load_ext rpy2.ipython"
   ]
  },
  {
   "cell_type": "code",
   "execution_count": 57,
   "metadata": {},
   "outputs": [],
   "source": [
    "%Rpush df_g"
   ]
  },
  {
   "cell_type": "code",
   "execution_count": 59,
   "metadata": {},
   "outputs": [
    {
     "data": {
      "text/plain": [
       "   n_interv size       acc          se\n",
       "1:        0 1972 0.9832657 0.002889320\n",
       "2:        1 1957 0.9499234 0.004931482\n",
       "3:        2 1943 0.9233145 0.006038192\n",
       "4:        3 1287 0.8958819 0.008516635\n",
       "5:        4  330 0.9000000 0.016539535\n",
       "    n_interv size       acc          se    model\n",
       " 1:        0 1972 0.9832657 0.002889320      our\n",
       " 2:        1 1957 0.9499234 0.004931482      our\n",
       " 3:        2 1943 0.9233145 0.006038192      our\n",
       " 4:        3 1287 0.8958819 0.008516635      our\n",
       " 5:        4  330 0.9000000 0.016539535      our\n",
       " 6:        0 1972 0.9517000 0.010714286 googleLM\n",
       " 7:        1 1957 0.7146000 0.022678571 googleLM\n",
       " 8:        2 1943 0.7107000 0.022576531 googleLM\n",
       " 9:        3 1287 0.6625000 0.023647959 googleLM\n",
       "10:        4  330 0.5855000 0.025076531 googleLM\n",
       "11:        0 1972 0.9974550 0.000000000  numpred\n",
       "12:        1 1957 0.9848480 0.005612245  numpred\n",
       "13:        2 1943 0.9451370 0.011390306  numpred\n",
       "14:        3 1287 0.8975000 0.015178571  numpred\n",
       "15:        4  330 0.8937820 0.015668367  numpred\n"
      ]
     },
     "metadata": {},
     "output_type": "display_data"
    },
    {
     "data": {
      "image/png": "[encoded data removed]"
     },
     "metadata": {},
     "output_type": "display_data"
    }
   ],
   "source": [
    "%%R -w 450 -h 350\n",
    "library(data.table)\n",
    "library(ggplot2)\n",
    "\n",
    "df = data.table(df_g)\n",
    "colnames(df) <- c(\"n_interv\",\"size\",\"acc\",\"se\" )\n",
    "print(df)\n",
    "df$model = \"our\"\n",
    "df_google = copy(df)\n",
    "df_google$acc = 1 - c(0.0483, 0.2854, 0.2893, 0.3375, 0.4145)\n",
    "df_google$se = c(0.069 - 0.027, 0.3298 - 0.2409, 0.3310 - 0.2425, 0.3838 - 0.2911, 0.4636 - 0.3653)/(2 * 1.96)\n",
    "df_google$model = \"googleLM\"\n",
    "df_numpred = copy(df)\n",
    "df_numpred$acc = 1 - c(0.002545, 0.015152, 0.054863, 0.102500, 0.106218)\n",
    "df_numpred$se = c(0.0, 0.0236 - 0.0016, 0.07715 - 0.0325, 0.1322 - 0.0727, 0.1369 - 0.07548)/(2*1.96)\n",
    "df_numpred$model = \"numpred\"\n",
    "df = rbind(df, df_google, df_numpred)\n",
    "\n",
    "print(df)\n",
    "\n",
    "text = element_text(size=25)\n",
    "pd <- position_dodge(.0) \n",
    "\n",
    "p = ggplot(df, aes(x=n_interv, y=acc*100, color=model, group=model)) + geom_line(size=1.0) + geom_point(stat=\"identity\",position=pd,size=3.0) \n",
    "p = p  + xlab(\"number of attractors\") + ylab(\"accuracy\")  \n",
    "p = p #+ geom_text(aes(label=format(acc*100, digits=3)), vjust=3, colour=\"white\",size=6,position=pd)  \n",
    "p = p + geom_errorbar(aes(ymin=(acc-se)*100, ymax=(acc+se)*100), width=.1, position=pd, size=1.0) \n",
    "p + theme(axis.title.x=text, axis.title.y=text, legend.text=text, axis.text.x=element_text(size=20,color=\"grey10\"), \n",
    "          axis.text.y=element_text(size=20,color=\"grey10\"), strip.text=text) + guides(color=FALSE)"
   ]
  }
 ],
 "metadata": {
  "kernelspec": {
   "display_name": "Python 3",
   "language": "python",
   "name": "python3"
  },
  "language_info": {
   "codemirror_mode": {
    "name": "ipython",
    "version": 3
   },
   "file_extension": ".py",
   "mimetype": "text/x-python",
   "name": "python",
   "nbconvert_exporter": "python",
   "pygments_lexer": "ipython3",
   "version": "3.6.1"
  },
  "toc": {
   "nav_menu": {},
   "number_sections": true,
   "sideBar": true,
   "skip_h1_title": false,
   "toc_cell": false,
   "toc_position": {},
   "toc_section_display": "block",
   "toc_window_display": true
  }
 },
 "nbformat": 4,
 "nbformat_minor": 2
}
