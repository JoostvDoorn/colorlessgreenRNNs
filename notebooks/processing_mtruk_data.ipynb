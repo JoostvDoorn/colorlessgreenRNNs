{
 "cells": [
  {
   "cell_type": "code",
   "execution_count": 1,
   "metadata": {
    "collapsed": true
   },
   "outputs": [],
   "source": [
    "import pandas as pd"
   ]
  },
  {
   "cell_type": "markdown",
   "metadata": {},
   "source": [
    "## Reading data"
   ]
  },
  {
   "cell_type": "code",
   "execution_count": 2,
   "metadata": {
    "collapsed": true
   },
   "outputs": [],
   "source": [
    "df = pd.read_csv(\"/private/home/gulordava/edouard_data/itwiki/testsets/mturk_data/processed/p12_processed\",sep=\"\\t\",header=None)"
   ]
  },
  {
   "cell_type": "code",
   "execution_count": 3,
   "metadata": {},
   "outputs": [],
   "source": [
    "df.columns = [\"worker_id\",\"type\",\"class\",\"answer\",\"correct_answer\", \"opt1\",\"opt2\",\"full_id\",\"sent\"]"
   ]
  },
  {
   "cell_type": "code",
   "execution_count": 4,
   "metadata": {
    "scrolled": true
   },
   "outputs": [
    {
     "data": {
      "text/plain": [
       "type\n",
       "control              250\n",
       "target_generated    1097\n",
       "target_original      126\n",
       "dtype: int64"
      ]
     },
     "execution_count": 4,
     "metadata": {},
     "output_type": "execute_result"
    }
   ],
   "source": [
    "df[[\"full_id\", \"type\"]].drop_duplicates().groupby(\"type\").size()"
   ]
  },
  {
   "cell_type": "code",
   "execution_count": 5,
   "metadata": {},
   "outputs": [],
   "source": [
    "ids = []\n",
    "t = df[df.type.isin([\"target_generated\",\"target_original\"])]\n",
    "for row in t.full_id:\n",
    "    ids.append(row.split(\"__\"))\n",
    "ids = pd.DataFrame(ids, columns=[\"pattern_id\",\"constr_id\",\"sent_id\"])\n",
    "\n",
    "t = t.reset_index(drop=True).join(ids)\n",
    "t = t[[\"pattern_id\",\"constr_id\",\"sent_id\"]].drop_duplicates().groupby([\"pattern_id\",\"constr_id\"]).size().reset_index()\n",
    "subset = t[t[0] < 10][[\"pattern_id\",\"constr_id\"]]\n",
    "subset[\"pc\"] = subset[\"pattern_id\"] + subset[\"constr_id\"]\n",
    "#t[~(t.pattern_id + t.constr_id).isin(subset.pc)]"
   ]
  },
  {
   "cell_type": "code",
   "execution_count": 6,
   "metadata": {},
   "outputs": [
    {
     "data": {
      "text/plain": [
       "76"
      ]
     },
     "execution_count": 6,
     "metadata": {},
     "output_type": "execute_result"
    }
   ],
   "source": [
    "t = df[df.type == \"control\"].groupby([\"worker_id\"]).size()\n",
    "controlled_workers = list(t[t >= 10].index)\n",
    "len(controlled_workers)"
   ]
  },
  {
   "cell_type": "markdown",
   "metadata": {},
   "source": [
    "## Finding and filtering spammers"
   ]
  },
  {
   "cell_type": "code",
   "execution_count": 7,
   "metadata": {},
   "outputs": [
    {
     "name": "stderr",
     "output_type": "stream",
     "text": [
      "/private/home/gulordava/anaconda3/lib/python3.6/site-packages/ipykernel_launcher.py:1: UserWarning: Boolean Series key will be reindexed to match DataFrame index.\n",
      "  \"\"\"Entry point for launching an IPython kernel.\n"
     ]
    },
    {
     "data": {
      "text/plain": [
       "40"
      ]
     },
     "execution_count": 7,
     "metadata": {},
     "output_type": "execute_result"
    }
   ],
   "source": [
    "control_acc = df[df.worker_id.isin(controlled_workers)][df.type==\"control\"].groupby([\"worker_id\",\"class\"]).size().reset_index()\n",
    "control_acc.columns = [\"worker_id\",\"class\",\"N\"]\n",
    "control_acc[[\"perc\"]] = control_acc.groupby([\"worker_id\"]).transform(lambda x: x/sum(x))\n",
    "t = control_acc[control_acc[\"class\"] == \"F\"]\n",
    "\n",
    "bad_workers = list(t[t.perc > 0.2].worker_id.values)\n",
    "len(bad_workers)\n",
    "#t[t.worker_id.isin(bad_workers)]"
   ]
  },
  {
   "cell_type": "markdown",
   "metadata": {},
   "source": [
    "Blocked spammers from the first experiment"
   ]
  },
  {
   "cell_type": "code",
   "execution_count": 8,
   "metadata": {
    "collapsed": true
   },
   "outputs": [],
   "source": [
    "blocked_spammers = ['A1JMQLQBLDOZYL',\n",
    " 'A1YPX4OBE2YR2V',\n",
    " 'A2MLOF6VG898LQ',\n",
    " 'AF1HT6VL272QZ',\n",
    " 'AWDSIX3ULD32V',\n",
    " 'A352QLA6AIP5J2', \n",
    " 'A1YGSIQI52QT9L','A12Q6033OGVFCZ','A1RO22O88I71FD','A2F4FBGDUQ9VQ7','A35CJT7MMT4EVW','A6NN7XDLH3RON',\n",
    " 'A15UR9T6I32Y2D', 'A31OEH89H0DG82', 'AG3WY7N4UC07C','A13ISH3PAGHO0A',\n",
    " 'A15UR9T6I32Y2D',\n",
    " 'A1RUYCD6BDQBBS',\n",
    " 'A1X5N37U5JPJ6Z',\n",
    " 'A2PU4YNWITAQVL',\n",
    " 'A30JJJ2M9K8F5A',\n",
    " 'A31OEH89H0DG82',\n",
    " 'A3US40JJ8RYD4S',\n",
    " 'AEBETUY5OD68H',\n",
    " 'AG3WY7N4UC07C',\n",
    " 'AQ07VGUPLAGEU',\n",
    " 'A15JR89YUENFHY','A24KNAYGIC1V7Q']"
   ]
  },
  {
   "cell_type": "markdown",
   "metadata": {},
   "source": [
    "New spammers to block"
   ]
  },
  {
   "cell_type": "code",
   "execution_count": 9,
   "metadata": {},
   "outputs": [
    {
     "name": "stderr",
     "output_type": "stream",
     "text": [
      "/private/home/gulordava/anaconda3/lib/python3.6/site-packages/ipykernel_launcher.py:2: UserWarning: Boolean Series key will be reindexed to match DataFrame index.\n",
      "  \n"
     ]
    },
    {
     "data": {
      "text/html": [
       "<div>\n",
       "<style>\n",
       "    .dataframe thead tr:only-child th {\n",
       "        text-align: right;\n",
       "    }\n",
       "\n",
       "    .dataframe thead th {\n",
       "        text-align: left;\n",
       "    }\n",
       "\n",
       "    .dataframe tbody tr th {\n",
       "        vertical-align: top;\n",
       "    }\n",
       "</style>\n",
       "<table border=\"1\" class=\"dataframe\">\n",
       "  <thead>\n",
       "    <tr style=\"text-align: right;\">\n",
       "      <th></th>\n",
       "      <th>worker_id</th>\n",
       "      <th>class</th>\n",
       "      <th>N</th>\n",
       "      <th>perc</th>\n",
       "    </tr>\n",
       "  </thead>\n",
       "  <tbody>\n",
       "    <tr>\n",
       "      <th>53</th>\n",
       "      <td>A2FW2B5TJJNALN</td>\n",
       "      <td>F</td>\n",
       "      <td>22</td>\n",
       "      <td>0.500000</td>\n",
       "    </tr>\n",
       "    <tr>\n",
       "      <th>65</th>\n",
       "      <td>A2X7BE2FSPUKCK</td>\n",
       "      <td>F</td>\n",
       "      <td>25</td>\n",
       "      <td>0.446429</td>\n",
       "    </tr>\n",
       "    <tr>\n",
       "      <th>92</th>\n",
       "      <td>A3PKJULC5O1V6C</td>\n",
       "      <td>F</td>\n",
       "      <td>14</td>\n",
       "      <td>0.583333</td>\n",
       "    </tr>\n",
       "    <tr>\n",
       "      <th>120</th>\n",
       "      <td>AK5YRGLG7QKI8</td>\n",
       "      <td>F</td>\n",
       "      <td>26</td>\n",
       "      <td>0.448276</td>\n",
       "    </tr>\n",
       "  </tbody>\n",
       "</table>\n",
       "</div>"
      ],
      "text/plain": [
       "          worker_id class   N      perc\n",
       "53   A2FW2B5TJJNALN     F  22  0.500000\n",
       "65   A2X7BE2FSPUKCK     F  25  0.446429\n",
       "92   A3PKJULC5O1V6C     F  14  0.583333\n",
       "120   AK5YRGLG7QKI8     F  26  0.448276"
      ]
     },
     "execution_count": 9,
     "metadata": {},
     "output_type": "execute_result"
    }
   ],
   "source": [
    "new_spammers = [w for w in bad_workers if not w in blocked_spammers]\n",
    "t[t.worker_id.isin(new_spammers)][t.N > 10]"
   ]
  },
  {
   "cell_type": "code",
   "execution_count": 10,
   "metadata": {},
   "outputs": [],
   "source": [
    "#df[df.worker_id.isin(new_spammers)].groupby(\"worker_id\").size()"
   ]
  },
  {
   "cell_type": "code",
   "execution_count": 11,
   "metadata": {
    "collapsed": true
   },
   "outputs": [],
   "source": [
    "good_workers = [w for w in controlled_workers if not w in bad_workers]"
   ]
  },
  {
   "cell_type": "code",
   "execution_count": 12,
   "metadata": {},
   "outputs": [
    {
     "data": {
      "text/plain": [
       "13288"
      ]
     },
     "execution_count": 12,
     "metadata": {},
     "output_type": "execute_result"
    }
   ],
   "source": [
    "len(df[df.worker_id.isin(bad_workers)])"
   ]
  },
  {
   "cell_type": "code",
   "execution_count": 13,
   "metadata": {},
   "outputs": [
    {
     "data": {
      "text/plain": [
       "13924"
      ]
     },
     "execution_count": 13,
     "metadata": {},
     "output_type": "execute_result"
    }
   ],
   "source": [
    "len(df[df.worker_id.isin(good_workers)])"
   ]
  },
  {
   "cell_type": "code",
   "execution_count": 14,
   "metadata": {},
   "outputs": [
    {
     "data": {
      "text/plain": [
       "36"
      ]
     },
     "execution_count": 14,
     "metadata": {},
     "output_type": "execute_result"
    }
   ],
   "source": [
    "len(good_workers)"
   ]
  },
  {
   "cell_type": "markdown",
   "metadata": {},
   "source": [
    "## Data by good workers"
   ]
  },
  {
   "cell_type": "code",
   "execution_count": 15,
   "metadata": {},
   "outputs": [
    {
     "data": {
      "text/plain": [
       "29109"
      ]
     },
     "execution_count": 15,
     "metadata": {},
     "output_type": "execute_result"
    }
   ],
   "source": [
    "len(df)"
   ]
  },
  {
   "cell_type": "code",
   "execution_count": 16,
   "metadata": {},
   "outputs": [
    {
     "data": {
      "text/plain": [
       "13924"
      ]
     },
     "execution_count": 16,
     "metadata": {},
     "output_type": "execute_result"
    }
   ],
   "source": [
    "good_df = df[df.worker_id.isin(good_workers)]\n",
    "len(good_df)"
   ]
  },
  {
   "cell_type": "markdown",
   "metadata": {},
   "source": [
    "Some statistics: wrong and correct responses per sentence type"
   ]
  },
  {
   "cell_type": "code",
   "execution_count": 17,
   "metadata": {},
   "outputs": [
    {
     "data": {
      "text/plain": [
       "type              class\n",
       "control           F          69\n",
       "                  T        2322\n",
       "target_generated  F        1221\n",
       "                  T        9143\n",
       "target_original   F          66\n",
       "                  T        1103\n",
       "dtype: int64"
      ]
     },
     "execution_count": 17,
     "metadata": {},
     "output_type": "execute_result"
    }
   ],
   "source": [
    "good_df.groupby([\"type\",\"class\"]).size()"
   ]
  },
  {
   "cell_type": "markdown",
   "metadata": {},
   "source": [
    "Average number of good judgments per example"
   ]
  },
  {
   "cell_type": "code",
   "execution_count": 18,
   "metadata": {},
   "outputs": [
    {
     "data": {
      "text/plain": [
       "9.452817379497624"
      ]
     },
     "execution_count": 18,
     "metadata": {},
     "output_type": "execute_result"
    }
   ],
   "source": [
    "good_df.groupby([\"full_id\"]).size().mean()"
   ]
  },
  {
   "cell_type": "code",
   "execution_count": 45,
   "metadata": {},
   "outputs": [
    {
     "data": {
      "text/plain": [
       "full_id\n",
       "L!DET_ADJ_NOUN!Number=Sing!Number=Plur__17__0    10\n",
       "L!DET_ADJ_NOUN!Number=Sing!Number=Plur__17__1     8\n",
       "L!DET_ADJ_NOUN!Number=Sing!Number=Plur__17__2     8\n",
       "L!DET_ADJ_NOUN!Number=Sing!Number=Plur__17__3     9\n",
       "L!DET_ADJ_NOUN!Number=Sing!Number=Plur__17__4    12\n",
       "L!DET_ADJ_NOUN!Number=Sing!Number=Plur__17__5     9\n",
       "L!DET_ADJ_NOUN!Number=Sing!Number=Plur__17__6    10\n",
       "L!DET_ADJ_NOUN!Number=Sing!Number=Plur__17__7     9\n",
       "L!DET_ADJ_NOUN!Number=Sing!Number=Plur__17__8     9\n",
       "L!DET_ADJ_NOUN!Number=Sing!Number=Plur__17__9    10\n",
       "L!DET_ADJ_NOUN!Number=Sing!Number=Plur__1__0      8\n",
       "L!DET_ADJ_NOUN!Number=Sing!Number=Plur__1__1     11\n",
       "L!DET_ADJ_NOUN!Number=Sing!Number=Plur__1__2      8\n",
       "L!DET_ADJ_NOUN!Number=Sing!Number=Plur__1__3      9\n",
       "L!DET_ADJ_NOUN!Number=Sing!Number=Plur__1__4      8\n",
       "L!DET_ADJ_NOUN!Number=Sing!Number=Plur__1__5     10\n",
       "L!DET_ADJ_NOUN!Number=Sing!Number=Plur__1__6     11\n",
       "L!DET_ADJ_NOUN!Number=Sing!Number=Plur__1__7     10\n",
       "L!DET_ADJ_NOUN!Number=Sing!Number=Plur__1__8      9\n",
       "L!DET_ADJ_NOUN!Number=Sing!Number=Plur__1__9     10\n",
       "L!DET_ADJ_NOUN!Number=Sing!Number=Plur__20__0    12\n",
       "L!DET_ADJ_NOUN!Number=Sing!Number=Plur__20__1    10\n",
       "L!DET_ADJ_NOUN!Number=Sing!Number=Plur__20__2    10\n",
       "L!DET_ADJ_NOUN!Number=Sing!Number=Plur__20__3    10\n",
       "L!DET_ADJ_NOUN!Number=Sing!Number=Plur__20__4     8\n",
       "L!DET_ADJ_NOUN!Number=Sing!Number=Plur__20__5    10\n",
       "L!DET_ADJ_NOUN!Number=Sing!Number=Plur__20__6    10\n",
       "L!DET_ADJ_NOUN!Number=Sing!Number=Plur__20__7    10\n",
       "L!DET_ADJ_NOUN!Number=Sing!Number=Plur__20__8     8\n",
       "L!DET_ADJ_NOUN!Number=Sing!Number=Plur__20__9    11\n",
       "                                                 ..\n",
       "f_contr_58                                        8\n",
       "f_contr_59                                       10\n",
       "f_contr_6                                         8\n",
       "f_contr_61                                       10\n",
       "f_contr_62                                       10\n",
       "f_contr_65                                       10\n",
       "f_contr_67                                       10\n",
       "f_contr_68                                       10\n",
       "f_contr_69                                        9\n",
       "f_contr_7                                         8\n",
       "f_contr_71                                       11\n",
       "f_contr_72                                        6\n",
       "f_contr_73                                       10\n",
       "f_contr_74                                        9\n",
       "f_contr_75                                        9\n",
       "f_contr_77                                        7\n",
       "f_contr_80                                       10\n",
       "f_contr_83                                        8\n",
       "f_contr_84                                        8\n",
       "f_contr_86                                       10\n",
       "f_contr_88                                       10\n",
       "f_contr_9                                         8\n",
       "f_contr_91                                       10\n",
       "f_contr_92                                       11\n",
       "f_contr_93                                        9\n",
       "f_contr_94                                       11\n",
       "f_contr_95                                        7\n",
       "f_contr_96                                       10\n",
       "f_contr_97                                       10\n",
       "f_contr_98                                       10\n",
       "Length: 1473, dtype: int64"
      ]
     },
     "execution_count": 45,
     "metadata": {},
     "output_type": "execute_result"
    }
   ],
   "source": [
    "good_df.groupby([\"full_id\"]).size()"
   ]
  },
  {
   "cell_type": "code",
   "execution_count": 970,
   "metadata": {
    "collapsed": true
   },
   "outputs": [],
   "source": [
    "pd.set_option('max_colwidth',120)"
   ]
  },
  {
   "cell_type": "markdown",
   "metadata": {},
   "source": [
    "### Filtering out sentences stranded from merging of two batches"
   ]
  },
  {
   "cell_type": "code",
   "execution_count": 19,
   "metadata": {
    "collapsed": true
   },
   "outputs": [],
   "source": [
    "ids = []\n",
    "target_df = good_df[good_df.type.isin([\"target_generated\",\"target_original\"])]\n",
    "for row in target_df.full_id:\n",
    "    ids.append(row.split(\"__\"))\n",
    "ids = pd.DataFrame(ids, columns=[\"pattern_id\",\"constr_id\",\"sent_id\"])\n",
    "\n",
    "\n",
    "target_df = target_df.reset_index(drop=True).join(ids)\n",
    "\n",
    "patterns = {p:\"__\".join(p.split(\"!\")[:2]) for p in set(target_df.pattern_id)}\n",
    "target_df[\"pattern\"] = target_df[\"pattern_id\"].map(patterns)"
   ]
  },
  {
   "cell_type": "markdown",
   "metadata": {},
   "source": [
    "Since there was merging of batch 1 (small batch) and the second large batch, there are some sentences from batch 1 which were not fully un\"unked\" and should be filtered out\n",
    "\n",
    "The final DF contains 119 model sentences and 119*9 generated sentences"
   ]
  },
  {
   "cell_type": "code",
   "execution_count": 20,
   "metadata": {},
   "outputs": [],
   "source": [
    "t = target_df[[\"pattern_id\",\"constr_id\",\"sent_id\"]].drop_duplicates().groupby([\"pattern_id\",\"constr_id\"]).size().reset_index()\n",
    "subset = t[t[0] < 10][[\"pattern_id\",\"constr_id\"]]\n",
    "subset[\"pc\"] = subset[\"pattern_id\"] + subset[\"constr_id\"]\n",
    "\n",
    "target_df = target_df[~(target_df.pattern_id + target_df.constr_id).isin(subset.pc)]"
   ]
  },
  {
   "cell_type": "code",
   "execution_count": 21,
   "metadata": {},
   "outputs": [
    {
     "data": {
      "text/plain": [
       "type\n",
       "target_generated    10163\n",
       "target_original      1113\n",
       "dtype: int64"
      ]
     },
     "execution_count": 21,
     "metadata": {},
     "output_type": "execute_result"
    }
   ],
   "source": [
    "target_df.groupby(\"type\").size()"
   ]
  },
  {
   "cell_type": "code",
   "execution_count": 22,
   "metadata": {},
   "outputs": [
    {
     "data": {
      "text/plain": [
       "1190"
      ]
     },
     "execution_count": 22,
     "metadata": {},
     "output_type": "execute_result"
    }
   ],
   "source": [
    "len(target_df.full_id.drop_duplicates())"
   ]
  },
  {
   "cell_type": "markdown",
   "metadata": {},
   "source": [
    "Each model sentence has 9 generated counterparts"
   ]
  },
  {
   "cell_type": "code",
   "execution_count": 23,
   "metadata": {},
   "outputs": [
    {
     "data": {
      "text/plain": [
       "type\n",
       "target_generated    1071\n",
       "target_original      119\n",
       "dtype: int64"
      ]
     },
     "execution_count": 23,
     "metadata": {},
     "output_type": "execute_result"
    }
   ],
   "source": [
    "target_df[[\"type\",\"full_id\"]].drop_duplicates().groupby(\"type\").size()"
   ]
  },
  {
   "cell_type": "markdown",
   "metadata": {},
   "source": [
    "### Saving final clean, good workers, data"
   ]
  },
  {
   "cell_type": "code",
   "execution_count": 33,
   "metadata": {},
   "outputs": [],
   "source": [
    "target_df.type = [\"original\" if x == \"target_original\" else \"generated\" for x in target_df.type]"
   ]
  },
  {
   "cell_type": "code",
   "execution_count": 977,
   "metadata": {
    "collapsed": true
   },
   "outputs": [],
   "source": [
    "target_df.to_csv(\"/private/home/gulordava/edouard_data/itwiki/testsets/mturk_data/merged_clean/batch2.csv\",sep=\"\\t\",index=False)"
   ]
  },
  {
   "cell_type": "markdown",
   "metadata": {},
   "source": [
    "## Some stats"
   ]
  },
  {
   "cell_type": "markdown",
   "metadata": {},
   "source": [
    "Number of different model sentences per pattern"
   ]
  },
  {
   "cell_type": "code",
   "execution_count": 24,
   "metadata": {},
   "outputs": [
    {
     "data": {
      "text/plain": [
       "pattern\n",
       "L__DET_ADJ_NOUN                14\n",
       "L__NOUN_VERB_PRON_VERB          6\n",
       "L__NOUN_VERB_VERB              27\n",
       "R__ADJ_ADJ_CCONJ_ADJ           13\n",
       "R__NOUN_ADJ_PUNCT_PRON_VERB    10\n",
       "R__NOUN_NOUN_ADV_ADJ           13\n",
       "R__NOUN_NOUN_VERB              18\n",
       "R__VERB_NOUN_CCONJ_VERB        18\n",
       "dtype: int64"
      ]
     },
     "execution_count": 24,
     "metadata": {},
     "output_type": "execute_result"
    }
   ],
   "source": [
    "target_df[[\"pattern\",\"constr_id\"]].drop_duplicates().groupby(\"pattern\").size()"
   ]
  },
  {
   "cell_type": "code",
   "execution_count": 25,
   "metadata": {
    "collapsed": true
   },
   "outputs": [],
   "source": [
    "pd.set_option('max_colwidth',140)"
   ]
  },
  {
   "cell_type": "code",
   "execution_count": 26,
   "metadata": {
    "collapsed": true
   },
   "outputs": [],
   "source": [
    "counts = target_df.groupby([\"pattern\",\"class\"]).size().reset_index()\n",
    "counts.columns = [\"pattern\",\"class\",\"N\"]\n",
    "counts\n",
    "counts[[\"perc\"]] = counts.groupby([\"pattern\"]).transform(lambda x: x/sum(x))"
   ]
  },
  {
   "cell_type": "code",
   "execution_count": 27,
   "metadata": {
    "collapsed": true
   },
   "outputs": [],
   "source": [
    "pd.options.display.float_format = '{:,.2f}'.format"
   ]
  },
  {
   "cell_type": "markdown",
   "metadata": {},
   "source": [
    "Overall accuracy on all target sentences"
   ]
  },
  {
   "cell_type": "code",
   "execution_count": 28,
   "metadata": {},
   "outputs": [
    {
     "data": {
      "text/html": [
       "<div>\n",
       "<style>\n",
       "    .dataframe thead tr:only-child th {\n",
       "        text-align: right;\n",
       "    }\n",
       "\n",
       "    .dataframe thead th {\n",
       "        text-align: left;\n",
       "    }\n",
       "\n",
       "    .dataframe tbody tr th {\n",
       "        vertical-align: top;\n",
       "    }\n",
       "</style>\n",
       "<table border=\"1\" class=\"dataframe\">\n",
       "  <thead>\n",
       "    <tr style=\"text-align: right;\">\n",
       "      <th></th>\n",
       "      <th>pattern</th>\n",
       "      <th>class</th>\n",
       "      <th>N</th>\n",
       "      <th>perc</th>\n",
       "    </tr>\n",
       "  </thead>\n",
       "  <tbody>\n",
       "    <tr>\n",
       "      <th>1</th>\n",
       "      <td>L__DET_ADJ_NOUN</td>\n",
       "      <td>T</td>\n",
       "      <td>1302</td>\n",
       "      <td>0.98</td>\n",
       "    </tr>\n",
       "    <tr>\n",
       "      <th>3</th>\n",
       "      <td>L__NOUN_VERB_PRON_VERB</td>\n",
       "      <td>T</td>\n",
       "      <td>560</td>\n",
       "      <td>0.95</td>\n",
       "    </tr>\n",
       "    <tr>\n",
       "      <th>5</th>\n",
       "      <td>L__NOUN_VERB_VERB</td>\n",
       "      <td>T</td>\n",
       "      <td>2350</td>\n",
       "      <td>0.93</td>\n",
       "    </tr>\n",
       "    <tr>\n",
       "      <th>7</th>\n",
       "      <td>R__ADJ_ADJ_CCONJ_ADJ</td>\n",
       "      <td>T</td>\n",
       "      <td>1216</td>\n",
       "      <td>0.98</td>\n",
       "    </tr>\n",
       "    <tr>\n",
       "      <th>9</th>\n",
       "      <td>R__NOUN_ADJ_PUNCT_PRON_VERB</td>\n",
       "      <td>T</td>\n",
       "      <td>842</td>\n",
       "      <td>0.90</td>\n",
       "    </tr>\n",
       "    <tr>\n",
       "      <th>11</th>\n",
       "      <td>R__NOUN_NOUN_ADV_ADJ</td>\n",
       "      <td>T</td>\n",
       "      <td>975</td>\n",
       "      <td>0.80</td>\n",
       "    </tr>\n",
       "    <tr>\n",
       "      <th>13</th>\n",
       "      <td>R__NOUN_NOUN_VERB</td>\n",
       "      <td>T</td>\n",
       "      <td>1281</td>\n",
       "      <td>0.74</td>\n",
       "    </tr>\n",
       "    <tr>\n",
       "      <th>15</th>\n",
       "      <td>R__VERB_NOUN_CCONJ_VERB</td>\n",
       "      <td>T</td>\n",
       "      <td>1498</td>\n",
       "      <td>0.87</td>\n",
       "    </tr>\n",
       "  </tbody>\n",
       "</table>\n",
       "</div>"
      ],
      "text/plain": [
       "                        pattern class     N  perc\n",
       "1               L__DET_ADJ_NOUN     T  1302  0.98\n",
       "3        L__NOUN_VERB_PRON_VERB     T   560  0.95\n",
       "5             L__NOUN_VERB_VERB     T  2350  0.93\n",
       "7          R__ADJ_ADJ_CCONJ_ADJ     T  1216  0.98\n",
       "9   R__NOUN_ADJ_PUNCT_PRON_VERB     T   842  0.90\n",
       "11         R__NOUN_NOUN_ADV_ADJ     T   975  0.80\n",
       "13            R__NOUN_NOUN_VERB     T  1281  0.74\n",
       "15      R__VERB_NOUN_CCONJ_VERB     T  1498  0.87"
      ]
     },
     "execution_count": 28,
     "metadata": {},
     "output_type": "execute_result"
    }
   ],
   "source": [
    "counts[counts[\"class\"] == \"T\"]\n",
    "perc_all = counts[counts[\"class\"] == \"T\"][[\"pattern\",\"perc\"]]\n",
    "counts[counts[\"class\"] == \"T\"]"
   ]
  },
  {
   "cell_type": "markdown",
   "metadata": {},
   "source": [
    "Accuracy on original sentences"
   ]
  },
  {
   "cell_type": "code",
   "execution_count": 34,
   "metadata": {},
   "outputs": [
    {
     "data": {
      "text/html": [
       "<div>\n",
       "<style>\n",
       "    .dataframe thead tr:only-child th {\n",
       "        text-align: right;\n",
       "    }\n",
       "\n",
       "    .dataframe thead th {\n",
       "        text-align: left;\n",
       "    }\n",
       "\n",
       "    .dataframe tbody tr th {\n",
       "        vertical-align: top;\n",
       "    }\n",
       "</style>\n",
       "<table border=\"1\" class=\"dataframe\">\n",
       "  <thead>\n",
       "    <tr style=\"text-align: right;\">\n",
       "      <th></th>\n",
       "      <th>pattern</th>\n",
       "      <th>class</th>\n",
       "      <th>N</th>\n",
       "      <th>perc_orig</th>\n",
       "    </tr>\n",
       "  </thead>\n",
       "  <tbody>\n",
       "    <tr>\n",
       "      <th>1</th>\n",
       "      <td>L__DET_ADJ_NOUN</td>\n",
       "      <td>T</td>\n",
       "      <td>130</td>\n",
       "      <td>0.98</td>\n",
       "    </tr>\n",
       "    <tr>\n",
       "      <th>3</th>\n",
       "      <td>L__NOUN_VERB_PRON_VERB</td>\n",
       "      <td>T</td>\n",
       "      <td>53</td>\n",
       "      <td>0.93</td>\n",
       "    </tr>\n",
       "    <tr>\n",
       "      <th>5</th>\n",
       "      <td>L__NOUN_VERB_VERB</td>\n",
       "      <td>T</td>\n",
       "      <td>243</td>\n",
       "      <td>0.97</td>\n",
       "    </tr>\n",
       "    <tr>\n",
       "      <th>7</th>\n",
       "      <td>R__ADJ_ADJ_CCONJ_ADJ</td>\n",
       "      <td>T</td>\n",
       "      <td>119</td>\n",
       "      <td>0.98</td>\n",
       "    </tr>\n",
       "    <tr>\n",
       "      <th>9</th>\n",
       "      <td>R__NOUN_ADJ_PUNCT_PRON_VERB</td>\n",
       "      <td>T</td>\n",
       "      <td>88</td>\n",
       "      <td>0.96</td>\n",
       "    </tr>\n",
       "    <tr>\n",
       "      <th>11</th>\n",
       "      <td>R__NOUN_NOUN_ADV_ADJ</td>\n",
       "      <td>T</td>\n",
       "      <td>107</td>\n",
       "      <td>0.91</td>\n",
       "    </tr>\n",
       "    <tr>\n",
       "      <th>13</th>\n",
       "      <td>R__NOUN_NOUN_VERB</td>\n",
       "      <td>T</td>\n",
       "      <td>147</td>\n",
       "      <td>0.86</td>\n",
       "    </tr>\n",
       "    <tr>\n",
       "      <th>15</th>\n",
       "      <td>R__VERB_NOUN_CCONJ_VERB</td>\n",
       "      <td>T</td>\n",
       "      <td>163</td>\n",
       "      <td>0.94</td>\n",
       "    </tr>\n",
       "  </tbody>\n",
       "</table>\n",
       "</div>"
      ],
      "text/plain": [
       "                        pattern class    N  perc_orig\n",
       "1               L__DET_ADJ_NOUN     T  130       0.98\n",
       "3        L__NOUN_VERB_PRON_VERB     T   53       0.93\n",
       "5             L__NOUN_VERB_VERB     T  243       0.97\n",
       "7          R__ADJ_ADJ_CCONJ_ADJ     T  119       0.98\n",
       "9   R__NOUN_ADJ_PUNCT_PRON_VERB     T   88       0.96\n",
       "11         R__NOUN_NOUN_ADV_ADJ     T  107       0.91\n",
       "13            R__NOUN_NOUN_VERB     T  147       0.86\n",
       "15      R__VERB_NOUN_CCONJ_VERB     T  163       0.94"
      ]
     },
     "execution_count": 34,
     "metadata": {},
     "output_type": "execute_result"
    }
   ],
   "source": [
    "counts = target_df[target_df.type==\"original\"].groupby([\"pattern\",\"class\"]).size().reset_index()\n",
    "counts.columns = [\"pattern\",\"class\",\"N\"]\n",
    "counts\n",
    "counts[[\"perc_orig\"]] = counts.groupby([\"pattern\"]).transform(lambda x: x/sum(x))\n",
    "perc_orig = counts[counts[\"class\"] == \"T\"][[\"pattern\",\"perc_orig\"]]\n",
    "counts[counts[\"class\"] == \"T\"]"
   ]
  },
  {
   "cell_type": "markdown",
   "metadata": {},
   "source": [
    "Accuracy on generated sentences"
   ]
  },
  {
   "cell_type": "code",
   "execution_count": 35,
   "metadata": {
    "scrolled": true
   },
   "outputs": [
    {
     "data": {
      "text/html": [
       "<div>\n",
       "<style>\n",
       "    .dataframe thead tr:only-child th {\n",
       "        text-align: right;\n",
       "    }\n",
       "\n",
       "    .dataframe thead th {\n",
       "        text-align: left;\n",
       "    }\n",
       "\n",
       "    .dataframe tbody tr th {\n",
       "        vertical-align: top;\n",
       "    }\n",
       "</style>\n",
       "<table border=\"1\" class=\"dataframe\">\n",
       "  <thead>\n",
       "    <tr style=\"text-align: right;\">\n",
       "      <th></th>\n",
       "      <th>pattern</th>\n",
       "      <th>class</th>\n",
       "      <th>N</th>\n",
       "      <th>perc_gen</th>\n",
       "    </tr>\n",
       "  </thead>\n",
       "  <tbody>\n",
       "    <tr>\n",
       "      <th>1</th>\n",
       "      <td>L__DET_ADJ_NOUN</td>\n",
       "      <td>T</td>\n",
       "      <td>1172</td>\n",
       "      <td>0.98</td>\n",
       "    </tr>\n",
       "    <tr>\n",
       "      <th>3</th>\n",
       "      <td>L__NOUN_VERB_PRON_VERB</td>\n",
       "      <td>T</td>\n",
       "      <td>507</td>\n",
       "      <td>0.95</td>\n",
       "    </tr>\n",
       "    <tr>\n",
       "      <th>5</th>\n",
       "      <td>L__NOUN_VERB_VERB</td>\n",
       "      <td>T</td>\n",
       "      <td>2107</td>\n",
       "      <td>0.92</td>\n",
       "    </tr>\n",
       "    <tr>\n",
       "      <th>7</th>\n",
       "      <td>R__ADJ_ADJ_CCONJ_ADJ</td>\n",
       "      <td>T</td>\n",
       "      <td>1097</td>\n",
       "      <td>0.98</td>\n",
       "    </tr>\n",
       "    <tr>\n",
       "      <th>9</th>\n",
       "      <td>R__NOUN_ADJ_PUNCT_PRON_VERB</td>\n",
       "      <td>T</td>\n",
       "      <td>754</td>\n",
       "      <td>0.90</td>\n",
       "    </tr>\n",
       "    <tr>\n",
       "      <th>11</th>\n",
       "      <td>R__NOUN_NOUN_ADV_ADJ</td>\n",
       "      <td>T</td>\n",
       "      <td>868</td>\n",
       "      <td>0.79</td>\n",
       "    </tr>\n",
       "    <tr>\n",
       "      <th>13</th>\n",
       "      <td>R__NOUN_NOUN_VERB</td>\n",
       "      <td>T</td>\n",
       "      <td>1134</td>\n",
       "      <td>0.73</td>\n",
       "    </tr>\n",
       "    <tr>\n",
       "      <th>15</th>\n",
       "      <td>R__VERB_NOUN_CCONJ_VERB</td>\n",
       "      <td>T</td>\n",
       "      <td>1335</td>\n",
       "      <td>0.87</td>\n",
       "    </tr>\n",
       "  </tbody>\n",
       "</table>\n",
       "</div>"
      ],
      "text/plain": [
       "                        pattern class     N  perc_gen\n",
       "1               L__DET_ADJ_NOUN     T  1172      0.98\n",
       "3        L__NOUN_VERB_PRON_VERB     T   507      0.95\n",
       "5             L__NOUN_VERB_VERB     T  2107      0.92\n",
       "7          R__ADJ_ADJ_CCONJ_ADJ     T  1097      0.98\n",
       "9   R__NOUN_ADJ_PUNCT_PRON_VERB     T   754      0.90\n",
       "11         R__NOUN_NOUN_ADV_ADJ     T   868      0.79\n",
       "13            R__NOUN_NOUN_VERB     T  1134      0.73\n",
       "15      R__VERB_NOUN_CCONJ_VERB     T  1335      0.87"
      ]
     },
     "execution_count": 35,
     "metadata": {},
     "output_type": "execute_result"
    }
   ],
   "source": [
    "counts = target_df[target_df.type==\"generated\"].groupby([\"pattern\",\"class\"]).size().reset_index()\n",
    "counts.columns = [\"pattern\",\"class\",\"N\"]\n",
    "counts\n",
    "counts[[\"perc_gen\"]] = counts.groupby([\"pattern\"]).transform(lambda x: x/sum(x))\n",
    "perc_gen = counts[counts[\"class\"] == \"T\"][[\"pattern\",\"perc_gen\"]]\n",
    "counts[counts[\"class\"] == \"T\"]"
   ]
  },
  {
   "cell_type": "code",
   "execution_count": 36,
   "metadata": {},
   "outputs": [
    {
     "data": {
      "text/html": [
       "<div>\n",
       "<style>\n",
       "    .dataframe thead tr:only-child th {\n",
       "        text-align: right;\n",
       "    }\n",
       "\n",
       "    .dataframe thead th {\n",
       "        text-align: left;\n",
       "    }\n",
       "\n",
       "    .dataframe tbody tr th {\n",
       "        vertical-align: top;\n",
       "    }\n",
       "</style>\n",
       "<table border=\"1\" class=\"dataframe\">\n",
       "  <thead>\n",
       "    <tr style=\"text-align: right;\">\n",
       "      <th></th>\n",
       "      <th>pattern</th>\n",
       "      <th>perc</th>\n",
       "      <th>perc_orig</th>\n",
       "      <th>perc_gen</th>\n",
       "    </tr>\n",
       "  </thead>\n",
       "  <tbody>\n",
       "    <tr>\n",
       "      <th>0</th>\n",
       "      <td>L__DET_ADJ_NOUN</td>\n",
       "      <td>0.98</td>\n",
       "      <td>0.98</td>\n",
       "      <td>0.98</td>\n",
       "    </tr>\n",
       "    <tr>\n",
       "      <th>1</th>\n",
       "      <td>L__NOUN_VERB_PRON_VERB</td>\n",
       "      <td>0.95</td>\n",
       "      <td>0.93</td>\n",
       "      <td>0.95</td>\n",
       "    </tr>\n",
       "    <tr>\n",
       "      <th>2</th>\n",
       "      <td>L__NOUN_VERB_VERB</td>\n",
       "      <td>0.93</td>\n",
       "      <td>0.97</td>\n",
       "      <td>0.92</td>\n",
       "    </tr>\n",
       "    <tr>\n",
       "      <th>3</th>\n",
       "      <td>R__ADJ_ADJ_CCONJ_ADJ</td>\n",
       "      <td>0.98</td>\n",
       "      <td>0.98</td>\n",
       "      <td>0.98</td>\n",
       "    </tr>\n",
       "    <tr>\n",
       "      <th>4</th>\n",
       "      <td>R__NOUN_ADJ_PUNCT_PRON_VERB</td>\n",
       "      <td>0.90</td>\n",
       "      <td>0.96</td>\n",
       "      <td>0.90</td>\n",
       "    </tr>\n",
       "    <tr>\n",
       "      <th>5</th>\n",
       "      <td>R__NOUN_NOUN_ADV_ADJ</td>\n",
       "      <td>0.80</td>\n",
       "      <td>0.91</td>\n",
       "      <td>0.79</td>\n",
       "    </tr>\n",
       "    <tr>\n",
       "      <th>6</th>\n",
       "      <td>R__NOUN_NOUN_VERB</td>\n",
       "      <td>0.74</td>\n",
       "      <td>0.86</td>\n",
       "      <td>0.73</td>\n",
       "    </tr>\n",
       "    <tr>\n",
       "      <th>7</th>\n",
       "      <td>R__VERB_NOUN_CCONJ_VERB</td>\n",
       "      <td>0.87</td>\n",
       "      <td>0.94</td>\n",
       "      <td>0.87</td>\n",
       "    </tr>\n",
       "  </tbody>\n",
       "</table>\n",
       "</div>"
      ],
      "text/plain": [
       "                       pattern  perc  perc_orig  perc_gen\n",
       "0              L__DET_ADJ_NOUN  0.98       0.98      0.98\n",
       "1       L__NOUN_VERB_PRON_VERB  0.95       0.93      0.95\n",
       "2            L__NOUN_VERB_VERB  0.93       0.97      0.92\n",
       "3         R__ADJ_ADJ_CCONJ_ADJ  0.98       0.98      0.98\n",
       "4  R__NOUN_ADJ_PUNCT_PRON_VERB  0.90       0.96      0.90\n",
       "5         R__NOUN_NOUN_ADV_ADJ  0.80       0.91      0.79\n",
       "6            R__NOUN_NOUN_VERB  0.74       0.86      0.73\n",
       "7      R__VERB_NOUN_CCONJ_VERB  0.87       0.94      0.87"
      ]
     },
     "execution_count": 36,
     "metadata": {},
     "output_type": "execute_result"
    }
   ],
   "source": [
    "perc = pd.merge(perc_all, perc_orig, on=\"pattern\")\n",
    "\n",
    "perc = pd.merge(perc, perc_gen, on=\"pattern\")\n",
    "perc"
   ]
  },
  {
   "cell_type": "code",
   "execution_count": 37,
   "metadata": {},
   "outputs": [
    {
     "data": {
      "text/html": [
       "<div>\n",
       "<style>\n",
       "    .dataframe thead tr:only-child th {\n",
       "        text-align: right;\n",
       "    }\n",
       "\n",
       "    .dataframe thead th {\n",
       "        text-align: left;\n",
       "    }\n",
       "\n",
       "    .dataframe tbody tr th {\n",
       "        vertical-align: top;\n",
       "    }\n",
       "</style>\n",
       "<table border=\"1\" class=\"dataframe\">\n",
       "  <thead>\n",
       "    <tr style=\"text-align: right;\">\n",
       "      <th></th>\n",
       "      <th>perc</th>\n",
       "      <th>perc_orig</th>\n",
       "      <th>perc_gen</th>\n",
       "    </tr>\n",
       "  </thead>\n",
       "  <tbody>\n",
       "    <tr>\n",
       "      <th>perc</th>\n",
       "      <td>1.00</td>\n",
       "      <td>0.90</td>\n",
       "      <td>1.00</td>\n",
       "    </tr>\n",
       "    <tr>\n",
       "      <th>perc_orig</th>\n",
       "      <td>0.90</td>\n",
       "      <td>1.00</td>\n",
       "      <td>0.90</td>\n",
       "    </tr>\n",
       "    <tr>\n",
       "      <th>perc_gen</th>\n",
       "      <td>1.00</td>\n",
       "      <td>0.90</td>\n",
       "      <td>1.00</td>\n",
       "    </tr>\n",
       "  </tbody>\n",
       "</table>\n",
       "</div>"
      ],
      "text/plain": [
       "           perc  perc_orig  perc_gen\n",
       "perc       1.00       0.90      1.00\n",
       "perc_orig  0.90       1.00      0.90\n",
       "perc_gen   1.00       0.90      1.00"
      ]
     },
     "execution_count": 37,
     "metadata": {},
     "output_type": "execute_result"
    }
   ],
   "source": [
    "perc.corr()"
   ]
  },
  {
   "cell_type": "code",
   "execution_count": 38,
   "metadata": {},
   "outputs": [
    {
     "data": {
      "text/html": [
       "<div>\n",
       "<style>\n",
       "    .dataframe thead tr:only-child th {\n",
       "        text-align: right;\n",
       "    }\n",
       "\n",
       "    .dataframe thead th {\n",
       "        text-align: left;\n",
       "    }\n",
       "\n",
       "    .dataframe tbody tr th {\n",
       "        vertical-align: top;\n",
       "    }\n",
       "</style>\n",
       "<table border=\"1\" class=\"dataframe\">\n",
       "  <thead>\n",
       "    <tr style=\"text-align: right;\">\n",
       "      <th></th>\n",
       "      <th>constr_id</th>\n",
       "      <th>class</th>\n",
       "      <th>N</th>\n",
       "      <th>perc</th>\n",
       "    </tr>\n",
       "  </thead>\n",
       "  <tbody>\n",
       "    <tr>\n",
       "      <th>1</th>\n",
       "      <td>0</td>\n",
       "      <td>T</td>\n",
       "      <td>84</td>\n",
       "      <td>0.93</td>\n",
       "    </tr>\n",
       "    <tr>\n",
       "      <th>2</th>\n",
       "      <td>13</td>\n",
       "      <td>T</td>\n",
       "      <td>89</td>\n",
       "      <td>1.00</td>\n",
       "    </tr>\n",
       "    <tr>\n",
       "      <th>4</th>\n",
       "      <td>14</td>\n",
       "      <td>T</td>\n",
       "      <td>79</td>\n",
       "      <td>0.95</td>\n",
       "    </tr>\n",
       "    <tr>\n",
       "      <th>6</th>\n",
       "      <td>15</td>\n",
       "      <td>T</td>\n",
       "      <td>78</td>\n",
       "      <td>0.88</td>\n",
       "    </tr>\n",
       "    <tr>\n",
       "      <th>8</th>\n",
       "      <td>17</td>\n",
       "      <td>T</td>\n",
       "      <td>91</td>\n",
       "      <td>0.98</td>\n",
       "    </tr>\n",
       "    <tr>\n",
       "      <th>10</th>\n",
       "      <td>26</td>\n",
       "      <td>T</td>\n",
       "      <td>86</td>\n",
       "      <td>0.99</td>\n",
       "    </tr>\n",
       "  </tbody>\n",
       "</table>\n",
       "</div>"
      ],
      "text/plain": [
       "   constr_id class   N  perc\n",
       "1          0     T  84  0.93\n",
       "2         13     T  89  1.00\n",
       "4         14     T  79  0.95\n",
       "6         15     T  78  0.88\n",
       "8         17     T  91  0.98\n",
       "10        26     T  86  0.99"
      ]
     },
     "execution_count": 38,
     "metadata": {},
     "output_type": "execute_result"
    }
   ],
   "source": [
    "tg = target_df[target_df.type==\"generated\"]\n",
    "counts = tg[tg.pattern == \"L__NOUN_VERB_PRON_VERB\"].groupby([\"constr_id\",\"class\"]).size().reset_index()\n",
    "counts.columns = [\"constr_id\",\"class\",\"N\"]\n",
    "counts[[\"perc\"]] = counts.groupby([\"constr_id\"]).transform(lambda x: x/sum(x))\n",
    "counts[counts[\"class\"] == \"T\"]"
   ]
  },
  {
   "cell_type": "code",
   "execution_count": 39,
   "metadata": {},
   "outputs": [
    {
     "data": {
      "text/html": [
       "<div>\n",
       "<style>\n",
       "    .dataframe thead tr:only-child th {\n",
       "        text-align: right;\n",
       "    }\n",
       "\n",
       "    .dataframe thead th {\n",
       "        text-align: left;\n",
       "    }\n",
       "\n",
       "    .dataframe tbody tr th {\n",
       "        vertical-align: top;\n",
       "    }\n",
       "</style>\n",
       "<table border=\"1\" class=\"dataframe\">\n",
       "  <thead>\n",
       "    <tr style=\"text-align: right;\">\n",
       "      <th></th>\n",
       "      <th>constr_id</th>\n",
       "      <th>class</th>\n",
       "      <th>N</th>\n",
       "      <th>perc</th>\n",
       "    </tr>\n",
       "  </thead>\n",
       "  <tbody>\n",
       "    <tr>\n",
       "      <th>1</th>\n",
       "      <td>0</td>\n",
       "      <td>T</td>\n",
       "      <td>8</td>\n",
       "      <td>0.89</td>\n",
       "    </tr>\n",
       "    <tr>\n",
       "      <th>2</th>\n",
       "      <td>13</td>\n",
       "      <td>T</td>\n",
       "      <td>9</td>\n",
       "      <td>1.00</td>\n",
       "    </tr>\n",
       "    <tr>\n",
       "      <th>3</th>\n",
       "      <td>14</td>\n",
       "      <td>T</td>\n",
       "      <td>10</td>\n",
       "      <td>1.00</td>\n",
       "    </tr>\n",
       "    <tr>\n",
       "      <th>5</th>\n",
       "      <td>15</td>\n",
       "      <td>T</td>\n",
       "      <td>7</td>\n",
       "      <td>0.70</td>\n",
       "    </tr>\n",
       "    <tr>\n",
       "      <th>6</th>\n",
       "      <td>17</td>\n",
       "      <td>T</td>\n",
       "      <td>8</td>\n",
       "      <td>1.00</td>\n",
       "    </tr>\n",
       "    <tr>\n",
       "      <th>7</th>\n",
       "      <td>26</td>\n",
       "      <td>T</td>\n",
       "      <td>11</td>\n",
       "      <td>1.00</td>\n",
       "    </tr>\n",
       "  </tbody>\n",
       "</table>\n",
       "</div>"
      ],
      "text/plain": [
       "  constr_id class   N  perc\n",
       "1         0     T   8  0.89\n",
       "2        13     T   9  1.00\n",
       "3        14     T  10  1.00\n",
       "5        15     T   7  0.70\n",
       "6        17     T   8  1.00\n",
       "7        26     T  11  1.00"
      ]
     },
     "execution_count": 39,
     "metadata": {},
     "output_type": "execute_result"
    }
   ],
   "source": [
    "tg = target_df[target_df.type==\"original\"]\n",
    "counts = tg[tg.pattern == \"L__NOUN_VERB_PRON_VERB\"].groupby([\"constr_id\",\"class\"]).size().reset_index()\n",
    "counts.columns = [\"constr_id\",\"class\",\"N\"]\n",
    "counts[[\"perc\"]] = counts.groupby([\"constr_id\"]).transform(lambda x: x/sum(x))\n",
    "counts[counts[\"class\"] == \"T\"]"
   ]
  },
  {
   "cell_type": "code",
   "execution_count": 40,
   "metadata": {
    "scrolled": false
   },
   "outputs": [
    {
     "name": "stderr",
     "output_type": "stream",
     "text": [
      "/private/home/gulordava/anaconda3/lib/python3.6/site-packages/ipykernel_launcher.py:1: UserWarning: Boolean Series key will be reindexed to match DataFrame index.\n",
      "  \"\"\"Entry point for launching an IPython kernel.\n"
     ]
    },
    {
     "data": {
      "text/html": [
       "<div>\n",
       "<style>\n",
       "    .dataframe thead tr:only-child th {\n",
       "        text-align: right;\n",
       "    }\n",
       "\n",
       "    .dataframe thead th {\n",
       "        text-align: left;\n",
       "    }\n",
       "\n",
       "    .dataframe tbody tr th {\n",
       "        vertical-align: top;\n",
       "    }\n",
       "</style>\n",
       "<table border=\"1\" class=\"dataframe\">\n",
       "  <thead>\n",
       "    <tr style=\"text-align: right;\">\n",
       "      <th></th>\n",
       "      <th>sent</th>\n",
       "      <th>opt1</th>\n",
       "      <th>opt2</th>\n",
       "      <th>answer</th>\n",
       "      <th>constr_id</th>\n",
       "      <th>sent_id</th>\n",
       "    </tr>\n",
       "  </thead>\n",
       "  <tbody>\n",
       "    <tr>\n",
       "      <th>2470</th>\n",
       "      <td>Nelle sovrapposizioni per rivincita il capitolo che avanza l' instaurazione per trasportare alla crosta di spirale dell' artista si</td>\n",
       "      <td>comportano</td>\n",
       "      <td>comporta</td>\n",
       "      <td>comporta</td>\n",
       "      <td>15</td>\n",
       "      <td>1</td>\n",
       "    </tr>\n",
       "    <tr>\n",
       "      <th>4080</th>\n",
       "      <td>Nelle lacrime per convocazione il presupposto che erge l' istituzione per salvaguardare alla signora di gola dell' agente si</td>\n",
       "      <td>riuniscono</td>\n",
       "      <td>riunisce</td>\n",
       "      <td>riunisce</td>\n",
       "      <td>15</td>\n",
       "      <td>9</td>\n",
       "    </tr>\n",
       "    <tr>\n",
       "      <th>4288</th>\n",
       "      <td>Nelle piste per cognata il serpente che adotta l' emanazione per bilanciare alla fattura di pubblicazione dell' artista si</td>\n",
       "      <td>superano</td>\n",
       "      <td>supera</td>\n",
       "      <td>supera</td>\n",
       "      <td>15</td>\n",
       "      <td>3</td>\n",
       "    </tr>\n",
       "    <tr>\n",
       "      <th>5197</th>\n",
       "      <td>Nelle teste per fetta il desiderio che acquista l' invasione per contenere alla strada di prospettiva dell' atleta si</td>\n",
       "      <td>riportano</td>\n",
       "      <td>riporta</td>\n",
       "      <td>riporta</td>\n",
       "      <td>15</td>\n",
       "      <td>5</td>\n",
       "    </tr>\n",
       "    <tr>\n",
       "      <th>5487</th>\n",
       "      <td>Nelle lettere per striscia il patrimonio che ama l' euforia per bere alla coscienza di rinascita dell' atleta si</td>\n",
       "      <td>comporta</td>\n",
       "      <td>comportano</td>\n",
       "      <td>comporta</td>\n",
       "      <td>15</td>\n",
       "      <td>6</td>\n",
       "    </tr>\n",
       "    <tr>\n",
       "      <th>6561</th>\n",
       "      <td>Nelle sostanze per terra il creolo che effettua l' impressione per temere alla coppia di dipendenza dell' ospite si</td>\n",
       "      <td>tenta</td>\n",
       "      <td>tentano</td>\n",
       "      <td>tenta</td>\n",
       "      <td>15</td>\n",
       "      <td>8</td>\n",
       "    </tr>\n",
       "    <tr>\n",
       "      <th>6740</th>\n",
       "      <td>Nelle liti per cucina il metallo che appoggia l' alternativa per contenere alla propensione di regia dell' adolescente si</td>\n",
       "      <td>rimane</td>\n",
       "      <td>rimangono</td>\n",
       "      <td>rimane</td>\n",
       "      <td>15</td>\n",
       "      <td>7</td>\n",
       "    </tr>\n",
       "    <tr>\n",
       "      <th>9418</th>\n",
       "      <td>Nelle trasmissioni per fede il ramo che apre l' ambientazione per sopravvivere alla ventina di delegazione dell' apprendista si</td>\n",
       "      <td>svolgono</td>\n",
       "      <td>svolge</td>\n",
       "      <td>svolge</td>\n",
       "      <td>15</td>\n",
       "      <td>4</td>\n",
       "    </tr>\n",
       "    <tr>\n",
       "      <th>9733</th>\n",
       "      <td>Nelle parti per tomba il lago che occorre l' idea per partire alla follia di spinta dell' autista si</td>\n",
       "      <td>rivelano</td>\n",
       "      <td>rivela</td>\n",
       "      <td>rivela</td>\n",
       "      <td>15</td>\n",
       "      <td>2</td>\n",
       "    </tr>\n",
       "    <tr>\n",
       "      <th>11067</th>\n",
       "      <td>Nelle distribuzioni per ruota il tempo che impiega l' acqua per giungere alla bocca di derivazione dell' utente si</td>\n",
       "      <td>consuma</td>\n",
       "      <td>consumano</td>\n",
       "      <td>consuma</td>\n",
       "      <td>15</td>\n",
       "      <td>0</td>\n",
       "    </tr>\n",
       "  </tbody>\n",
       "</table>\n",
       "</div>"
      ],
      "text/plain": [
       "                                                                                                                                      sent  \\\n",
       "2470   Nelle sovrapposizioni per rivincita il capitolo che avanza l' instaurazione per trasportare alla crosta di spirale dell' artista si   \n",
       "4080          Nelle lacrime per convocazione il presupposto che erge l' istituzione per salvaguardare alla signora di gola dell' agente si   \n",
       "4288            Nelle piste per cognata il serpente che adotta l' emanazione per bilanciare alla fattura di pubblicazione dell' artista si   \n",
       "5197                 Nelle teste per fetta il desiderio che acquista l' invasione per contenere alla strada di prospettiva dell' atleta si   \n",
       "5487                      Nelle lettere per striscia il patrimonio che ama l' euforia per bere alla coscienza di rinascita dell' atleta si   \n",
       "6561                   Nelle sostanze per terra il creolo che effettua l' impressione per temere alla coppia di dipendenza dell' ospite si   \n",
       "6740             Nelle liti per cucina il metallo che appoggia l' alternativa per contenere alla propensione di regia dell' adolescente si   \n",
       "9418       Nelle trasmissioni per fede il ramo che apre l' ambientazione per sopravvivere alla ventina di delegazione dell' apprendista si   \n",
       "9733                                  Nelle parti per tomba il lago che occorre l' idea per partire alla follia di spinta dell' autista si   \n",
       "11067                   Nelle distribuzioni per ruota il tempo che impiega l' acqua per giungere alla bocca di derivazione dell' utente si   \n",
       "\n",
       "             opt1        opt2    answer constr_id sent_id  \n",
       "2470   comportano    comporta  comporta        15       1  \n",
       "4080   riuniscono    riunisce  riunisce        15       9  \n",
       "4288     superano      supera    supera        15       3  \n",
       "5197    riportano     riporta   riporta        15       5  \n",
       "5487     comporta  comportano  comporta        15       6  \n",
       "6561        tenta     tentano     tenta        15       8  \n",
       "6740       rimane   rimangono    rimane        15       7  \n",
       "9418     svolgono      svolge    svolge        15       4  \n",
       "9733     rivelano      rivela    rivela        15       2  \n",
       "11067     consuma   consumano   consuma        15       0  "
      ]
     },
     "execution_count": 40,
     "metadata": {},
     "output_type": "execute_result"
    }
   ],
   "source": [
    "t = target_df[target_df.pattern == \"L__NOUN_VERB_PRON_VERB\"][target_df[\"class\"] == \"T\"][[\"sent\",\"opt1\",\"opt2\",\"answer\",\"constr_id\",\"sent_id\"]]\n",
    "t[t.constr_id == \"15\"].drop_duplicates()"
   ]
  },
  {
   "cell_type": "code",
   "execution_count": 990,
   "metadata": {},
   "outputs": [
    {
     "name": "stderr",
     "output_type": "stream",
     "text": [
      "/private/home/gulordava/anaconda3/lib/python3.6/site-packages/ipykernel_launcher.py:1: UserWarning: Boolean Series key will be reindexed to match DataFrame index.\n",
      "  \"\"\"Entry point for launching an IPython kernel.\n"
     ]
    },
    {
     "data": {
      "text/plain": [
       "array([ \"( 6 ) considerando che l' obbligo di indicare il prezzo di vendita e il prezzo per unità di misura\"], dtype=object)"
      ]
     },
     "execution_count": 990,
     "metadata": {},
     "output_type": "execute_result"
    }
   ],
   "source": [
    "tg[tg.pattern_id == \"L!NOUN_VERB_VERB!Number=Sing!Number=Plur\"][tg.constr_id == \"39\"].sent[:1].values"
   ]
  },
  {
   "cell_type": "markdown",
   "metadata": {
    "collapsed": true
   },
   "source": [
    "### Correlation of construction accuracy"
   ]
  },
  {
   "cell_type": "code",
   "execution_count": 41,
   "metadata": {},
   "outputs": [],
   "source": [
    "counts = target_df[target_df.type==\"generated\"].groupby([\"pattern\",\"constr_id\",\"class\"]).size().reset_index()\n",
    "counts.columns = [\"pattern\",\"constr_id\",\"class\",\"N\"]\n",
    "counts\n",
    "counts[[\"perc_gen\"]] = counts.groupby([\"pattern\", \"constr_id\"]).transform(lambda x: x/sum(x))\n",
    "perc_gen = counts[counts[\"class\"] == \"T\"][[\"pattern\",\"constr_id\",\"perc_gen\"]]\n"
   ]
  },
  {
   "cell_type": "code",
   "execution_count": 42,
   "metadata": {},
   "outputs": [],
   "source": [
    "counts = target_df[target_df.type==\"original\"].groupby([\"pattern\",\"constr_id\",\"class\"]).size().reset_index()\n",
    "counts.columns = [\"pattern\",\"constr_id\",\"class\",\"N\"]\n",
    "counts\n",
    "counts[[\"perc_orig\"]] = counts.groupby([\"pattern\", \"constr_id\"]).transform(lambda x: x/sum(x))\n",
    "perc_orig = counts[counts[\"class\"] == \"T\"][[\"pattern\",\"constr_id\",\"perc_orig\"]]\n"
   ]
  },
  {
   "cell_type": "code",
   "execution_count": 43,
   "metadata": {},
   "outputs": [
    {
     "data": {
      "text/plain": [
       "(0.76575394359377313, 3.5607104359515027e-24)"
      ]
     },
     "execution_count": 43,
     "metadata": {},
     "output_type": "execute_result"
    }
   ],
   "source": [
    "from scipy.stats import pearsonr\n",
    "t = pd.merge(perc_gen, perc_orig, on=[\"pattern\",\"constr_id\"])\n",
    "pearsonr(t.perc_gen, t.perc_orig)"
   ]
  },
  {
   "cell_type": "code",
   "execution_count": null,
   "metadata": {
    "collapsed": true
   },
   "outputs": [],
   "source": []
  }
 ],
 "metadata": {
  "kernelspec": {
   "display_name": "Python 3",
   "language": "python",
   "name": "python3"
  },
  "language_info": {
   "codemirror_mode": {
    "name": "ipython",
    "version": 3
   },
   "file_extension": ".py",
   "mimetype": "text/x-python",
   "name": "python",
   "nbconvert_exporter": "python",
   "pygments_lexer": "ipython3",
   "version": "3.6.1"
  },
  "toc": {
   "nav_menu": {},
   "number_sections": true,
   "sideBar": true,
   "skip_h1_title": false,
   "toc_cell": false,
   "toc_position": {},
   "toc_section_display": "block",
   "toc_window_display": true
  }
 },
 "nbformat": 4,
 "nbformat_minor": 2
}
