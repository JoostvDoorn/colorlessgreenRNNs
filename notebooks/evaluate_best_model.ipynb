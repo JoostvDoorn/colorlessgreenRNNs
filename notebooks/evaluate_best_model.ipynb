{
 "cells": [
  {
   "cell_type": "code",
   "execution_count": 77,
   "metadata": {
    "collapsed": true
   },
   "outputs": [],
   "source": [
    "import pandas as pd\n",
    "pd.options.display.float_format = '{:,.1f}'.format\n",
    "pd.set_option('max_colwidth',150)"
   ]
  },
  {
   "cell_type": "code",
   "execution_count": 184,
   "metadata": {
    "collapsed": true
   },
   "outputs": [],
   "source": [
    "lang = \"Italian\"\n",
    "model_type = \"\"\n",
    "#model_type = \"\"\n",
    "\n",
    "path_repo = \"/private/home/gulordava/colorlessgreen/data\"\n",
    "path_test_data = path_repo + \"/agreement/\" + lang + \"/generated\"\n",
    "path_lm_data = path_repo + \"/lm/\"\n",
    "\n",
    "path = \"/private/home/gulordava/lstm_hyperparameters_exps/\" + lang + \"/\" + model_type"
   ]
  },
  {
   "cell_type": "markdown",
   "metadata": {},
   "source": [
    "## Pattern-level evaluation"
   ]
  },
  {
   "cell_type": "code",
   "execution_count": 197,
   "metadata": {},
   "outputs": [],
   "source": [
    "import pandas as pd\n",
    "\n",
    "full_df = pd.read_csv(\"/private/home/gulordava/colorlessgreen/data/results/\" + model_type + \"/\" + lang + \"/best_model.tab\",sep=\"\\t\")"
   ]
  },
  {
   "cell_type": "code",
   "execution_count": 198,
   "metadata": {
    "collapsed": true
   },
   "outputs": [],
   "source": [
    "fields = [\"pattern\",\"constr_id\",\"sent_id\",\"n_attr\",\"punct\",\"len_prefix\",\"len_context\",\"sent\",\"correct_number\",\"type\"]"
   ]
  },
  {
   "cell_type": "code",
   "execution_count": 199,
   "metadata": {
    "collapsed": true
   },
   "outputs": [],
   "source": [
    "best = [f for f in full_df.columns if \"hidden\" in f]"
   ]
  },
  {
   "cell_type": "code",
   "execution_count": 200,
   "metadata": {},
   "outputs": [
    {
     "name": "stderr",
     "output_type": "stream",
     "text": [
      "/private/home/gulordava/anaconda3/lib/python3.6/site-packages/pandas/core/base.py:331: PerformanceWarning: dropping on a non-lexsorted multi-index without a level parameter may impact performance.\n",
      "  return self.obj.drop(self.exclusions, axis=1)\n"
     ]
    },
    {
     "data": {
      "text/html": [
       "<div>\n",
       "<style>\n",
       "    .dataframe thead tr:only-child th {\n",
       "        text-align: right;\n",
       "    }\n",
       "\n",
       "    .dataframe thead th {\n",
       "        text-align: left;\n",
       "    }\n",
       "\n",
       "    .dataframe tbody tr th {\n",
       "        vertical-align: top;\n",
       "    }\n",
       "</style>\n",
       "<table border=\"1\" class=\"dataframe\">\n",
       "  <thead>\n",
       "    <tr>\n",
       "      <th></th>\n",
       "      <th>pattern</th>\n",
       "      <th colspan=\"2\" halign=\"left\">hidden650_batch128_dropout0.2_lr20.0</th>\n",
       "      <th>size</th>\n",
       "      <th>av_len</th>\n",
       "    </tr>\n",
       "    <tr>\n",
       "      <th></th>\n",
       "      <th></th>\n",
       "      <th>orig</th>\n",
       "      <th>gen</th>\n",
       "      <th></th>\n",
       "      <th></th>\n",
       "    </tr>\n",
       "  </thead>\n",
       "  <tbody>\n",
       "    <tr>\n",
       "      <th>0</th>\n",
       "      <td>L__ADJ_ADJ_NOUN</td>\n",
       "      <td>98.9</td>\n",
       "      <td>94.6</td>\n",
       "      <td>910</td>\n",
       "      <td>4.6</td>\n",
       "    </tr>\n",
       "    <tr>\n",
       "      <th>1</th>\n",
       "      <td>L__ADJ_DET_NOUN</td>\n",
       "      <td>100.0</td>\n",
       "      <td>96.1</td>\n",
       "      <td>370</td>\n",
       "      <td>4.0</td>\n",
       "    </tr>\n",
       "    <tr>\n",
       "      <th>2</th>\n",
       "      <td>L__ADJ_NOUN_ADJ_NOUN</td>\n",
       "      <td>100.0</td>\n",
       "      <td>97.8</td>\n",
       "      <td>150</td>\n",
       "      <td>4.8</td>\n",
       "    </tr>\n",
       "    <tr>\n",
       "      <th>3</th>\n",
       "      <td>L__ADJ_NOUN_NOUN</td>\n",
       "      <td>85.7</td>\n",
       "      <td>67.7</td>\n",
       "      <td>420</td>\n",
       "      <td>4.9</td>\n",
       "    </tr>\n",
       "    <tr>\n",
       "      <th>4</th>\n",
       "      <td>L__ADJ_PUNCT_ADJ_NOUN</td>\n",
       "      <td>100.0</td>\n",
       "      <td>95.2</td>\n",
       "      <td>620</td>\n",
       "      <td>5.5</td>\n",
       "    </tr>\n",
       "    <tr>\n",
       "      <th>5</th>\n",
       "      <td>L__ADJ_PUNCT_NOUN_NOUN</td>\n",
       "      <td>60.0</td>\n",
       "      <td>68.9</td>\n",
       "      <td>50</td>\n",
       "      <td>7.2</td>\n",
       "    </tr>\n",
       "    <tr>\n",
       "      <th>6</th>\n",
       "      <td>L__ADJ_PUNCT_VERB_NOUN</td>\n",
       "      <td>100.0</td>\n",
       "      <td>81.5</td>\n",
       "      <td>30</td>\n",
       "      <td>4.3</td>\n",
       "    </tr>\n",
       "    <tr>\n",
       "      <th>7</th>\n",
       "      <td>L__ADJ_VERB_NOUN</td>\n",
       "      <td>75.0</td>\n",
       "      <td>83.3</td>\n",
       "      <td>40</td>\n",
       "      <td>4.2</td>\n",
       "    </tr>\n",
       "    <tr>\n",
       "      <th>8</th>\n",
       "      <td>L__DET_ADJ_ADJ_NOUN</td>\n",
       "      <td>100.0</td>\n",
       "      <td>100.0</td>\n",
       "      <td>190</td>\n",
       "      <td>4.6</td>\n",
       "    </tr>\n",
       "    <tr>\n",
       "      <th>9</th>\n",
       "      <td>L__DET_ADJ_NOUN</td>\n",
       "      <td>100.0</td>\n",
       "      <td>95.2</td>\n",
       "      <td>210</td>\n",
       "      <td>5.4</td>\n",
       "    </tr>\n",
       "    <tr>\n",
       "      <th>10</th>\n",
       "      <td>L__DET_VERB_NOUN</td>\n",
       "      <td>100.0</td>\n",
       "      <td>76.4</td>\n",
       "      <td>80</td>\n",
       "      <td>4.1</td>\n",
       "    </tr>\n",
       "    <tr>\n",
       "      <th>11</th>\n",
       "      <td>L__NOUN_PUNCT_VERB_ADV_VERB</td>\n",
       "      <td>100.0</td>\n",
       "      <td>88.9</td>\n",
       "      <td>40</td>\n",
       "      <td>9.5</td>\n",
       "    </tr>\n",
       "    <tr>\n",
       "      <th>12</th>\n",
       "      <td>L__VERB_ADJ_NOUN</td>\n",
       "      <td>100.0</td>\n",
       "      <td>90.0</td>\n",
       "      <td>100</td>\n",
       "      <td>4.6</td>\n",
       "    </tr>\n",
       "    <tr>\n",
       "      <th>13</th>\n",
       "      <td>L__VERB_NOUN_ADJ_NOUN</td>\n",
       "      <td>100.0</td>\n",
       "      <td>98.8</td>\n",
       "      <td>90</td>\n",
       "      <td>5.0</td>\n",
       "    </tr>\n",
       "    <tr>\n",
       "      <th>14</th>\n",
       "      <td>L__VERB_NOUN_NOUN</td>\n",
       "      <td>82.6</td>\n",
       "      <td>68.1</td>\n",
       "      <td>230</td>\n",
       "      <td>4.5</td>\n",
       "    </tr>\n",
       "    <tr>\n",
       "      <th>15</th>\n",
       "      <td>R__NOUN_PUNCT_CCONJ_PUNCT_NOUN</td>\n",
       "      <td>100.0</td>\n",
       "      <td>77.8</td>\n",
       "      <td>30</td>\n",
       "      <td>4.0</td>\n",
       "    </tr>\n",
       "    <tr>\n",
       "      <th>16</th>\n",
       "      <td>R__VERB_NOUN_CCONJ_PART_VERB</td>\n",
       "      <td>100.0</td>\n",
       "      <td>87.9</td>\n",
       "      <td>110</td>\n",
       "      <td>7.2</td>\n",
       "    </tr>\n",
       "    <tr>\n",
       "      <th>17</th>\n",
       "      <td>R__VERB_NOUN_CCONJ_VERB</td>\n",
       "      <td>92.5</td>\n",
       "      <td>88.2</td>\n",
       "      <td>670</td>\n",
       "      <td>5.6</td>\n",
       "    </tr>\n",
       "    <tr>\n",
       "      <th>18</th>\n",
       "      <td>R__VERB_NOUN_NOUN_CCONJ_VERB</td>\n",
       "      <td>100.0</td>\n",
       "      <td>97.2</td>\n",
       "      <td>40</td>\n",
       "      <td>6.2</td>\n",
       "    </tr>\n",
       "    <tr>\n",
       "      <th>19</th>\n",
       "      <td>R__VERB_PROPN_CCONJ_VERB</td>\n",
       "      <td>100.0</td>\n",
       "      <td>88.9</td>\n",
       "      <td>40</td>\n",
       "      <td>5.0</td>\n",
       "    </tr>\n",
       "  </tbody>\n",
       "</table>\n",
       "</div>"
      ],
      "text/plain": [
       "                           pattern hidden650_batch128_dropout0.2_lr20.0        \\\n",
       "                                                                   orig   gen   \n",
       "0                  L__ADJ_ADJ_NOUN                                 98.9  94.6   \n",
       "1                  L__ADJ_DET_NOUN                                100.0  96.1   \n",
       "2             L__ADJ_NOUN_ADJ_NOUN                                100.0  97.8   \n",
       "3                 L__ADJ_NOUN_NOUN                                 85.7  67.7   \n",
       "4            L__ADJ_PUNCT_ADJ_NOUN                                100.0  95.2   \n",
       "5           L__ADJ_PUNCT_NOUN_NOUN                                 60.0  68.9   \n",
       "6           L__ADJ_PUNCT_VERB_NOUN                                100.0  81.5   \n",
       "7                 L__ADJ_VERB_NOUN                                 75.0  83.3   \n",
       "8              L__DET_ADJ_ADJ_NOUN                                100.0 100.0   \n",
       "9                  L__DET_ADJ_NOUN                                100.0  95.2   \n",
       "10                L__DET_VERB_NOUN                                100.0  76.4   \n",
       "11     L__NOUN_PUNCT_VERB_ADV_VERB                                100.0  88.9   \n",
       "12                L__VERB_ADJ_NOUN                                100.0  90.0   \n",
       "13           L__VERB_NOUN_ADJ_NOUN                                100.0  98.8   \n",
       "14               L__VERB_NOUN_NOUN                                 82.6  68.1   \n",
       "15  R__NOUN_PUNCT_CCONJ_PUNCT_NOUN                                100.0  77.8   \n",
       "16    R__VERB_NOUN_CCONJ_PART_VERB                                100.0  87.9   \n",
       "17         R__VERB_NOUN_CCONJ_VERB                                 92.5  88.2   \n",
       "18    R__VERB_NOUN_NOUN_CCONJ_VERB                                100.0  97.2   \n",
       "19        R__VERB_PROPN_CCONJ_VERB                                100.0  88.9   \n",
       "\n",
       "   size av_len  \n",
       "                \n",
       "0   910    4.6  \n",
       "1   370    4.0  \n",
       "2   150    4.8  \n",
       "3   420    4.9  \n",
       "4   620    5.5  \n",
       "5    50    7.2  \n",
       "6    30    4.3  \n",
       "7    40    4.2  \n",
       "8   190    4.6  \n",
       "9   210    5.4  \n",
       "10   80    4.1  \n",
       "11   40    9.5  \n",
       "12  100    4.6  \n",
       "13   90    5.0  \n",
       "14  230    4.5  \n",
       "15   30    4.0  \n",
       "16  110    7.2  \n",
       "17  670    5.6  \n",
       "18   40    6.2  \n",
       "19   40    5.0  "
      ]
     },
     "execution_count": 200,
     "metadata": {},
     "output_type": "execute_result"
    }
   ],
   "source": [
    "wide_data = full_df[fields + [\"class\"] + best].pivot_table(columns=(\"class\"),values=(best),index=fields)\n",
    "\n",
    "for model in best:\n",
    "    correct = wide_data.loc[:, (model, \"correct\")]\n",
    "    wrong = wide_data.loc[:, (model, \"wrong\")]\n",
    "    wide_data[(model, \"acc\")] = (correct > wrong)*100\n",
    "\n",
    "\n",
    "t = wide_data.reset_index()\n",
    "a = pd.concat([t[t.type==\"original\"].groupby(\"pattern\").agg({(m, \"acc\"): \"mean\" for m in best}).rename(columns={'acc': 'orig'}),\n",
    "               t[t.type==\"generated\"].groupby(\"pattern\").agg({(m, \"acc\"): \"mean\" for m in best}).rename(columns={'acc': 'gen'})],\n",
    "              axis=1)\n",
    "a[\"size\"] = t.groupby(\"pattern\").size()\n",
    "a[\"av_len\"] = t.groupby(\"pattern\").mean()[\"len_context\"]\n",
    "a = a.reset_index()\n",
    "# a.mean(axis=1)\n",
    "#a[a.pattern==\"L_NOUN_VERB_VERB\"]\n",
    "a"
   ]
  },
  {
   "cell_type": "markdown",
   "metadata": {
    "collapsed": true
   },
   "source": [
    "## Plotting relations with punct, n_attr etc (in R)"
   ]
  },
  {
   "cell_type": "code",
   "execution_count": 189,
   "metadata": {},
   "outputs": [
    {
     "data": {
      "text/html": [
       "<div>\n",
       "<style>\n",
       "    .dataframe thead tr:only-child th {\n",
       "        text-align: right;\n",
       "    }\n",
       "\n",
       "    .dataframe thead th {\n",
       "        text-align: left;\n",
       "    }\n",
       "\n",
       "    .dataframe tbody tr th {\n",
       "        vertical-align: top;\n",
       "    }\n",
       "</style>\n",
       "<table border=\"1\" class=\"dataframe\">\n",
       "  <thead>\n",
       "    <tr style=\"text-align: right;\">\n",
       "      <th></th>\n",
       "      <th>pattern</th>\n",
       "      <th>constr_id</th>\n",
       "      <th>sent_id</th>\n",
       "      <th>n_attr</th>\n",
       "      <th>punct</th>\n",
       "      <th>len_prefix</th>\n",
       "      <th>len_context</th>\n",
       "      <th>sent</th>\n",
       "      <th>correct_number</th>\n",
       "      <th>type</th>\n",
       "      <th>hidden650_batch64_dropout0.2_lr20.0</th>\n",
       "    </tr>\n",
       "  </thead>\n",
       "  <tbody>\n",
       "    <tr>\n",
       "      <th>0</th>\n",
       "      <td>L__ADJ_ADJ_NOUN</td>\n",
       "      <td>0</td>\n",
       "      <td>0</td>\n",
       "      <td>0</td>\n",
       "      <td>True</td>\n",
       "      <td>4</td>\n",
       "      <td>4</td>\n",
       "      <td>Украинское научно - производственное предприятие \" ВАЛАР \" создало новый переносной комплекс \" КОБА \" для обеспечения боевых действий сил специаль...</td>\n",
       "      <td>sing</td>\n",
       "      <td>original</td>\n",
       "      <td>100</td>\n",
       "    </tr>\n",
       "  </tbody>\n",
       "</table>\n",
       "</div>"
      ],
      "text/plain": [
       "           pattern  constr_id  sent_id  n_attr  punct  len_prefix  \\\n",
       "0  L__ADJ_ADJ_NOUN          0        0       0   True           4   \n",
       "\n",
       "   len_context  \\\n",
       "0            4   \n",
       "\n",
       "                                                                                                                                                    sent  \\\n",
       "0  Украинское научно - производственное предприятие \" ВАЛАР \" создало новый переносной комплекс \" КОБА \" для обеспечения боевых действий сил специаль...   \n",
       "\n",
       "  correct_number      type  hidden650_batch64_dropout0.2_lr20.0  \n",
       "0           sing  original                                  100  "
      ]
     },
     "execution_count": 189,
     "metadata": {},
     "output_type": "execute_result"
    }
   ],
   "source": [
    "t = wide_data.reset_index()\n",
    "t = t[[(f,\"\") for f in fields] + [(m, \"acc\") for m in best]]\n",
    "t.columns = t.columns.droplevel(level=1)\n",
    "t[:1]"
   ]
  },
  {
   "cell_type": "code",
   "execution_count": 190,
   "metadata": {},
   "outputs": [
    {
     "name": "stdout",
     "output_type": "stream",
     "text": [
      "The rpy2.ipython extension is already loaded. To reload it, use:\n",
      "  %reload_ext rpy2.ipython\n"
     ]
    }
   ],
   "source": [
    "%load_ext rpy2.ipython"
   ]
  },
  {
   "cell_type": "code",
   "execution_count": 191,
   "metadata": {},
   "outputs": [],
   "source": [
    "%Rpush t"
   ]
  },
  {
   "cell_type": "code",
   "execution_count": 192,
   "metadata": {
    "collapsed": true
   },
   "outputs": [],
   "source": [
    "%Rpush best"
   ]
  },
  {
   "cell_type": "code",
   "execution_count": 193,
   "metadata": {},
   "outputs": [],
   "source": [
    "%%R\n",
    "library(data.table)\n",
    "library(ggplot2)\n",
    "library(mgcv)"
   ]
  },
  {
   "cell_type": "code",
   "execution_count": 194,
   "metadata": {},
   "outputs": [
    {
     "data": {
      "text/plain": [
       "   n_attr        LM        SE    N\n",
       "1:      0  90.97156 0.4412191 4220\n",
       "2:      1  86.11111 2.5848589  180\n",
       "3:      3 100.00000 0.0000000   10\n",
       "4:      2 100.00000 0.0000000   10\n"
      ]
     },
     "metadata": {},
     "output_type": "display_data"
    },
    {
     "data": {
      "image/png": "[encoded data removed]"
     },
     "metadata": {},
     "output_type": "display_data"
    }
   ],
   "source": [
    "%%R -w 400 -h 350\n",
    "\n",
    "dt = data.table(t)\n",
    "#print(dt)\n",
    "#dt = dt[sent_id == 0]\n",
    "\n",
    "x= dt[,.(mean(get(best)),sd(get(best))/sqrt(.N),.N),by=n_attr]\n",
    "\n",
    "colnames(x) = c(\"n_attr\",\"LM\", \"SE\",\"N\")\n",
    "print(x)\n",
    "\n",
    "p = ggplot(x[N > 10], aes(x=n_attr,y=LM)) + geom_bar(stat=\"identity\", fill=\"steelblue\",) \n",
    "p = p + xlab(\"number of interveners\") + ylab(\"accuracy\") \n",
    "p = p + geom_text(aes(label=format(LM, digits=3)), vjust=4, colour=\"white\", size=5) \n",
    "p + geom_errorbar(aes(ymin=LM-SE, ymax=LM+SE), width=.2)"
   ]
  },
  {
   "cell_type": "code",
   "execution_count": 195,
   "metadata": {},
   "outputs": [
    {
     "name": "stderr",
     "output_type": "stream",
     "text": [
      "/private/home/gulordava/anaconda3/lib/python3.6/site-packages/rpy2/rinterface/__init__.py:186: RRuntimeWarning: `geom_smooth()` using method = 'gam'\n",
      "\n",
      "  warnings.warn(x, RRuntimeWarning)\n"
     ]
    },
    {
     "data": {
      "image/png": "[encoded data removed]"
     },
     "metadata": {},
     "output_type": "display_data"
    }
   ],
   "source": [
    "%%R -w 500 -h 350\n",
    "\n",
    "dt = data.table(t)\n",
    "#dt = dt[sent_id != 0]\n",
    "#x= dt[,.(mean(hidden650_batch64_dropout0.2_lr10.0),mean(mturk_acc)),by=len_prefix]\n",
    "#colnames(x) = c(\"len_prefix\",\"LM\",\"people\")\n",
    "\n",
    "p = ggplot(dt, aes(x=len_context,y=get(best)*100)) #+ facet_wrap(~pattern)\n",
    "p = p + geom_point(position=position_jitter(width=.5, height=1.0)) + geom_smooth()\n",
    "p = p + xlab(\"context length\") + ylab(\"accuracy\") \n",
    "p # + geom_text(aes(label=format(value*100, digits=3)), vjust=3, colour=\"white\", position=position_dodge(.9), size=4.5) "
   ]
  },
  {
   "cell_type": "code",
   "execution_count": 196,
   "metadata": {},
   "outputs": [
    {
     "data": {
      "image/png": "[encoded data removed]"
     },
     "metadata": {},
     "output_type": "display_data"
    }
   ],
   "source": [
    "%%R -w 800 -h 350\n",
    "\n",
    "dt = data.table(t)\n",
    "#print(dt)\n",
    "#dt = dt[sent_id != 0]\n",
    "x= dt[,.(mean(get(best)),sd(get(best))/sqrt(.N)),by=.(punct,pattern)]\n",
    "\n",
    "colnames(x) = c(\"n_attr\",\"pattern\",\"LM\", \"SE\")\n",
    "#print(x)\n",
    "\n",
    "p = ggplot(x, aes(x=n_attr,y=LM)) + geom_bar(stat=\"identity\", fill=\"steelblue\") + facet_wrap(~pattern,ncol=7)\n",
    "p = p + xlab(\"punctuation\") + ylab(\"accuracy\") \n",
    "p = p + geom_text(aes(label=format(LM, digits=3)), vjust=4, colour=\"white\", size=5) \n",
    "p + geom_errorbar(aes(ymin=LM-SE, ymax=LM+SE), width=.2)"
   ]
  },
  {
   "cell_type": "code",
   "execution_count": null,
   "metadata": {
    "collapsed": true
   },
   "outputs": [],
   "source": []
  }
 ],
 "metadata": {
  "kernelspec": {
   "display_name": "Python 3",
   "language": "python",
   "name": "python3"
  },
  "language_info": {
   "codemirror_mode": {
    "name": "ipython",
    "version": 3
   },
   "file_extension": ".py",
   "mimetype": "text/x-python",
   "name": "python",
   "nbconvert_exporter": "python",
   "pygments_lexer": "ipython3",
   "version": "3.6.1"
  },
  "toc": {
   "nav_menu": {},
   "number_sections": true,
   "sideBar": true,
   "skip_h1_title": false,
   "toc_cell": false,
   "toc_position": {
    "height": "673px",
    "left": "0px",
    "right": "1193px",
    "top": "107px",
    "width": "212px"
   },
   "toc_section_display": "block",
   "toc_window_display": true
  }
 },
 "nbformat": 4,
 "nbformat_minor": 2
}
