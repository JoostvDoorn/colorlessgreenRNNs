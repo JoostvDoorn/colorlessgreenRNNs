{
 "cells": [
  {
   "cell_type": "code",
   "execution_count": 874,
   "metadata": {
    "collapsed": true
   },
   "outputs": [],
   "source": [
    "import pandas as pd\n",
    "pd.options.display.float_format = '{:,.1f}'.format\n",
    "pd.set_option('max_colwidth',150)"
   ]
  },
  {
   "cell_type": "markdown",
   "metadata": {},
   "source": [
    "## Evaluated models"
   ]
  },
  {
   "cell_type": "code",
   "execution_count": 2571,
   "metadata": {
    "collapsed": true
   },
   "outputs": [],
   "source": [
    "lang = \"Hebrew\"\n",
    "model_type = \"\"\n",
    "model_type = \"\"\n",
    "\n",
    "path_repo = \"/private/home/gulordava/colorlessgreen/data\"\n",
    "path_test_data = path_repo + \"/agreement/\" + lang + \"/generated\"\n",
    "path_lm_data = path_repo + \"/lm/\"\n",
    "\n",
    "path = \"/private/home/gulordava/lstm_hyperparameters_exps/\" + lang + \"/\" + model_type"
   ]
  },
  {
   "cell_type": "code",
   "execution_count": 2572,
   "metadata": {
    "collapsed": true
   },
   "outputs": [],
   "source": [
    "path_models = path + \"/models/\"\n",
    "if model_type == \"ngram_lstm\":\n",
    "    path_logs = path + \"/logs/\"\n",
    "# wo OOV words\n",
    "else:\n",
    "    path_logs = path + \"/valid_ppls/\""
   ]
  },
  {
   "cell_type": "markdown",
   "metadata": {},
   "source": [
    "### Getting valid perplexity"
   ]
  },
  {
   "cell_type": "code",
   "execution_count": 2573,
   "metadata": {
    "collapsed": true
   },
   "outputs": [],
   "source": [
    "def get_test_score(f_name):\n",
    "    ppls = []\n",
    "    with open(f_name, \"r\") as f:\n",
    "        for line in f:\n",
    "            if \"test \" in line:\n",
    "                fields = [f for f in line.strip().split(\"|\") if f != \"\"][1:]\n",
    "                values = [f.split()[-1] for f in fields]\n",
    "                return float(values[-1])\n",
    "            "
   ]
  },
  {
   "cell_type": "markdown",
   "metadata": {},
   "source": [
    "Get perplexities for analysis"
   ]
  },
  {
   "cell_type": "code",
   "execution_count": 2574,
   "metadata": {},
   "outputs": [
    {
     "name": "stdout",
     "output_type": "stream",
     "text": [
      "/private/home/gulordava/lstm_hyperparameters_exps/Hebrew//valid_ppls/\n",
      "hidden650_batch64_dropout0.1_lr20.0 42.32\n",
      "hidden650_batch128_dropout0.2_lr20.0 42.39\n",
      "hidden650_batch64_dropout0.2_lr20.0 42.47\n",
      "hidden650_batch64_dropout0.1_lr10.0 42.66\n",
      "hidden650_batch128_dropout0.1_lr20.0 42.71\n",
      "hidden650_batch64_dropout0.1_lr5.0 43.59\n",
      "hidden650_batch128_dropout0.1_lr10.0 43.79\n",
      "hidden650_batch64_dropout0.2_lr5.0 43.95\n",
      "hidden650_batch64_dropout0.2_lr10.0 43.99\n",
      "hidden650_batch128_dropout0.2_lr10.0 44.01\n"
     ]
    }
   ],
   "source": [
    "import os\n",
    "log_files = os.listdir(path_logs)\n",
    "print(path_logs)\n",
    "\n",
    "models_ppls = {}\n",
    "for f in log_files:\n",
    "    val_score = get_test_score(path_logs + f)\n",
    "    if val_score:\n",
    "        if model_type:\n",
    "            m = \"_\".join([model_type, f[:-4]])\n",
    "        else:\n",
    "            m = f[:-4]\n",
    "        models_ppls[m] = val_score\n",
    "# best models\n",
    "for f in sorted(models_ppls, key=models_ppls.get)[:10]:\n",
    "    print(f, models_ppls[f])\n",
    "\n",
    "top10 = sorted(models_ppls, key=models_ppls.get)[:5]"
   ]
  },
  {
   "cell_type": "raw",
   "metadata": {},
   "source": [
    "import os\n",
    "log_files = os.listdir(path + \"/valid_ppls_treebank/\")\n",
    "print(path + \"/valid_ppls_treebank/\")\n",
    "\n",
    "models_ppls_treebank = {}\n",
    "for f in log_files:\n",
    "    val_score = get_best_test_score(path + \"/valid_ppls_treebank/\" + f)\n",
    "    if val_score:\n",
    "        if model_type:\n",
    "            m = \"_\".join([model_type, f[:-4]])\n",
    "        else:\n",
    "            m = f[:-4]\n",
    "        models_ppls_treebank[m] = val_score\n",
    "# best models\n",
    "for f in sorted(models_ppls_treebank, key=models_ppls.get)[:10]:\n",
    "    print(f, models_ppls_treebank[f])\n",
    "\n",
    "ppls = pd.DataFrame(list(models_ppls.keys()),columns=[\"model\"])\n",
    "\n",
    "ppls[\"valid\"] = ppls.model.map(models_ppls)\n",
    "ppls[\"treebank\"] = ppls.model.map(models_ppls_treebank)\n",
    "\n",
    "properties = []\n",
    "for row in ppls.model:\n",
    "    row = row[len(model_type) + 1:]\n",
    "    print(row)\n",
    "    if len(row.split(\"_\")) >= 4:\n",
    "        hidden, batch, dropout, lr = row.split(\"_\")\n",
    "        hidden = hidden[6:]\n",
    "        batch = batch[5:]\n",
    "        dropout = dropout[7:]\n",
    "        lr = lr[2:]\n",
    "    else:\n",
    "        hidden, batch, dropout, lr = \"_\", \"_\",\"_\", \"_\"\n",
    "    properties.append([hidden, batch, dropout, lr])\n",
    "properties = pd.DataFrame(properties, columns=[\"hidden\",\"batch\",\"dropout\",\"lr\"])\n",
    "\n",
    "ppls = ppls.reset_index(drop=True).join(properties)"
   ]
  },
  {
   "cell_type": "code",
   "execution_count": 2575,
   "metadata": {},
   "outputs": [],
   "source": [
    "%Rpush ppls"
   ]
  },
  {
   "cell_type": "code",
   "execution_count": 2576,
   "metadata": {},
   "outputs": [
    {
     "data": {
      "image/png": "[encoded data removed]"
     },
     "metadata": {},
     "output_type": "display_data"
    }
   ],
   "source": [
    "%%R -w 600 -h 400\n",
    "\n",
    "df = data.table(ppls)\n",
    "\n",
    "text = element_text(size=20)\n",
    "p = ggplot(df, aes(x=valid,y=treebank,color=dropout)) + xlab(\"valid perplexity\") + ylab(\"treebank perlexity\")\n",
    "p + geom_point( size=2.5) + theme(axis.title.x=text, axis.title.y=text, legend.text=text, axis.text.x=element_text(size=15), \n",
    "          axis.text.y=element_text(size=15), strip.text=text)"
   ]
  },
  {
   "cell_type": "markdown",
   "metadata": {},
   "source": [
    "Best 200 and 650 units models"
   ]
  },
  {
   "cell_type": "code",
   "execution_count": 2577,
   "metadata": {},
   "outputs": [
    {
     "name": "stdout",
     "output_type": "stream",
     "text": [
      "hidden200_batch64_dropout0.1_lr10.0 57.52\n",
      "hidden200_batch64_dropout0.1_lr5.0 57.62\n",
      "hidden650_batch64_dropout0.1_lr20.0 42.32\n",
      "hidden650_batch128_dropout0.2_lr20.0 42.39\n"
     ]
    }
   ],
   "source": [
    "best_200 = sorted({f:models_ppls[f] for f in models_ppls if \"hidden200\" in f}, key=models_ppls.get)[:2]\n",
    "best_650 = sorted({f:models_ppls[f] for f in models_ppls if \"hidden650\" in f}, key=models_ppls.get)[:2]\n",
    "best = best_200 + best_650\n",
    "for b in best:\n",
    "    print(b, models_ppls[b])"
   ]
  },
  {
   "cell_type": "markdown",
   "metadata": {},
   "source": [
    "## Computing accuracy"
   ]
  },
  {
   "cell_type": "code",
   "execution_count": 2578,
   "metadata": {},
   "outputs": [],
   "source": [
    "import pandas as pd\n",
    "\n",
    "# all models results\n",
    "#full_df = pd.read_csv(\"/private/home/gulordava/colorlessgreen/data/results/\" + lang + \"_all_models.tab\",sep=\"\\t\")\n",
    "full_df = pd.read_csv(\"/private/home/gulordava/colorlessgreen/data/results/\" + model_type + \"/\" + lang + \"/all_models.tab\",sep=\"\\t\")"
   ]
  },
  {
   "cell_type": "code",
   "execution_count": 2579,
   "metadata": {
    "collapsed": true
   },
   "outputs": [],
   "source": [
    "fields = [\"pattern\",\"constr_id\",\"sent_id\",\"n_attr\",\"punct\",\"len_prefix\",\"len_context\",\"sent\",\"correct_number\",\"type\"]"
   ]
  },
  {
   "cell_type": "code",
   "execution_count": 2580,
   "metadata": {
    "collapsed": true
   },
   "outputs": [],
   "source": [
    "#models = list(models_ppls.keys()) + [\"freq\"]\n",
    "#models = [\"freq\"]\n",
    "models = [f for f in full_df.columns if \"hidden\" in f]  + [\"freq\"]"
   ]
  },
  {
   "cell_type": "code",
   "execution_count": 2581,
   "metadata": {},
   "outputs": [],
   "source": [
    "wide_data = full_df[fields + [\"class\"] + models].pivot_table(columns=(\"class\"),values=models,index=fields)\n",
    "\n",
    "for model in models:\n",
    "    correct = wide_data.loc[:, (model, \"correct\")]\n",
    "    wrong = wide_data.loc[:, (model, \"wrong\")]\n",
    "    wide_data[(model, \"acc\")] = correct > wrong\n",
    "#wide_data.groupby(\"pattern_id\").agg({\"correct\":\"mean\",\"wrong\":\"mean\", \"acc\":[\"mean\",\"size\"]})\n",
    "#wide_data.groupby(\"pattern_id\").agg({}"
   ]
  },
  {
   "cell_type": "code",
   "execution_count": 2582,
   "metadata": {},
   "outputs": [
    {
     "data": {
      "text/plain": [
       "4.597855227882038"
      ]
     },
     "execution_count": 2582,
     "metadata": {},
     "output_type": "execute_result"
    }
   ],
   "source": [
    "full_df[\"len_context\"].mean()"
   ]
  },
  {
   "cell_type": "code",
   "execution_count": 2583,
   "metadata": {
    "scrolled": false
   },
   "outputs": [],
   "source": [
    "t = wide_data.reset_index()\n",
    "#t = t[t.pattern == \"L__NOUN_VERB_VERB\"]\n",
    "a = pd.concat([t.agg({(m,\"acc\"):\"mean\" for m in models}), \n",
    "           t[t.sent_id==0].agg({(m,\"acc\"):\"mean\" for m in models}),\n",
    "           t[t.sent_id!=0].agg({(m,\"acc\"):\"mean\" for m in models})],\n",
    "          axis=1)\n",
    "a.index = models\n",
    "a = a.reset_index()\n",
    "a.columns = [\"model\",\"acc\",\"acc_original\",\"acc_generated\"]\n",
    "a.acc = a.acc * 100\n",
    "a.acc_original = a.acc_original * 100\n",
    "a.acc_generated = a.acc_generated * 100\n",
    "#a.sort_values(\"acc\")[-10:]"
   ]
  },
  {
   "cell_type": "markdown",
   "metadata": {},
   "source": [
    "Best models by perplexity"
   ]
  },
  {
   "cell_type": "code",
   "execution_count": 2584,
   "metadata": {
    "collapsed": true
   },
   "outputs": [],
   "source": [
    "a[\"ppls\"] = a[\"model\"].map(models_ppls)\n"
   ]
  },
  {
   "cell_type": "code",
   "execution_count": 2585,
   "metadata": {},
   "outputs": [],
   "source": [
    "properties = []\n",
    "for row in a.model:\n",
    "    if len(model_type) > 0:\n",
    "        row = row[len(model_type) + 1:]\n",
    "    if len(row.split(\"_\")) >= 4:\n",
    "        hidden, batch, dropout, lr = row.split(\"_\")\n",
    "        hidden = hidden[6:]\n",
    "        batch = batch[5:]\n",
    "        dropout = dropout[7:]\n",
    "        lr = lr[2:]\n",
    "    else:\n",
    "        hidden, batch, dropout, lr = \"_\", \"_\",\"_\", \"_\"\n",
    "    properties.append([hidden, batch, dropout, lr])\n",
    "properties = pd.DataFrame(properties, columns=[\"hidden\",\"batch\",\"dropout\",\"lr\"])\n",
    "\n",
    "a = a.reset_index(drop=True).join(properties)"
   ]
  },
  {
   "cell_type": "code",
   "execution_count": 2586,
   "metadata": {
    "scrolled": false
   },
   "outputs": [
    {
     "data": {
      "text/html": [
       "<div>\n",
       "<style>\n",
       "    .dataframe thead tr:only-child th {\n",
       "        text-align: right;\n",
       "    }\n",
       "\n",
       "    .dataframe thead th {\n",
       "        text-align: left;\n",
       "    }\n",
       "\n",
       "    .dataframe tbody tr th {\n",
       "        vertical-align: top;\n",
       "    }\n",
       "</style>\n",
       "<table border=\"1\" class=\"dataframe\">\n",
       "  <thead>\n",
       "    <tr style=\"text-align: right;\">\n",
       "      <th></th>\n",
       "      <th>model</th>\n",
       "      <th>acc</th>\n",
       "      <th>acc_original</th>\n",
       "      <th>acc_generated</th>\n",
       "      <th>ppls</th>\n",
       "      <th>hidden</th>\n",
       "      <th>batch</th>\n",
       "      <th>dropout</th>\n",
       "      <th>lr</th>\n",
       "    </tr>\n",
       "  </thead>\n",
       "  <tbody>\n",
       "    <tr>\n",
       "      <th>58</th>\n",
       "      <td>hidden650_batch64_dropout0.1_lr20.0</td>\n",
       "      <td>81.3</td>\n",
       "      <td>95.2</td>\n",
       "      <td>79.8</td>\n",
       "      <td>42.3</td>\n",
       "      <td>650</td>\n",
       "      <td>64</td>\n",
       "      <td>0.1</td>\n",
       "      <td>20.0</td>\n",
       "    </tr>\n",
       "    <tr>\n",
       "      <th>46</th>\n",
       "      <td>hidden650_batch128_dropout0.2_lr20.0</td>\n",
       "      <td>82.3</td>\n",
       "      <td>94.4</td>\n",
       "      <td>81.0</td>\n",
       "      <td>42.4</td>\n",
       "      <td>650</td>\n",
       "      <td>128</td>\n",
       "      <td>0.2</td>\n",
       "      <td>20.0</td>\n",
       "    </tr>\n",
       "    <tr>\n",
       "      <th>62</th>\n",
       "      <td>hidden650_batch64_dropout0.2_lr20.0</td>\n",
       "      <td>83.2</td>\n",
       "      <td>94.9</td>\n",
       "      <td>81.9</td>\n",
       "      <td>42.5</td>\n",
       "      <td>650</td>\n",
       "      <td>64</td>\n",
       "      <td>0.2</td>\n",
       "      <td>20.0</td>\n",
       "    </tr>\n",
       "    <tr>\n",
       "      <th>56</th>\n",
       "      <td>hidden650_batch64_dropout0.1_lr10.0</td>\n",
       "      <td>82.3</td>\n",
       "      <td>94.9</td>\n",
       "      <td>80.8</td>\n",
       "      <td>42.7</td>\n",
       "      <td>650</td>\n",
       "      <td>64</td>\n",
       "      <td>0.1</td>\n",
       "      <td>10.0</td>\n",
       "    </tr>\n",
       "    <tr>\n",
       "      <th>44</th>\n",
       "      <td>hidden650_batch128_dropout0.1_lr20.0</td>\n",
       "      <td>81.7</td>\n",
       "      <td>94.4</td>\n",
       "      <td>80.3</td>\n",
       "      <td>42.7</td>\n",
       "      <td>650</td>\n",
       "      <td>128</td>\n",
       "      <td>0.1</td>\n",
       "      <td>20.0</td>\n",
       "    </tr>\n",
       "    <tr>\n",
       "      <th>59</th>\n",
       "      <td>hidden650_batch64_dropout0.1_lr5.0</td>\n",
       "      <td>81.1</td>\n",
       "      <td>93.3</td>\n",
       "      <td>79.7</td>\n",
       "      <td>43.6</td>\n",
       "      <td>650</td>\n",
       "      <td>64</td>\n",
       "      <td>0.1</td>\n",
       "      <td>5.0</td>\n",
       "    </tr>\n",
       "    <tr>\n",
       "      <th>36</th>\n",
       "      <td>hidden650_batch128_dropout0.1_lr10.0</td>\n",
       "      <td>80.7</td>\n",
       "      <td>95.4</td>\n",
       "      <td>79.1</td>\n",
       "      <td>43.8</td>\n",
       "      <td>650</td>\n",
       "      <td>128</td>\n",
       "      <td>0.1</td>\n",
       "      <td>10.0</td>\n",
       "    </tr>\n",
       "    <tr>\n",
       "      <th>63</th>\n",
       "      <td>hidden650_batch64_dropout0.2_lr5.0</td>\n",
       "      <td>82.5</td>\n",
       "      <td>95.7</td>\n",
       "      <td>81.0</td>\n",
       "      <td>44.0</td>\n",
       "      <td>650</td>\n",
       "      <td>64</td>\n",
       "      <td>0.2</td>\n",
       "      <td>5.0</td>\n",
       "    </tr>\n",
       "    <tr>\n",
       "      <th>60</th>\n",
       "      <td>hidden650_batch64_dropout0.2_lr10.0</td>\n",
       "      <td>83.5</td>\n",
       "      <td>95.7</td>\n",
       "      <td>82.1</td>\n",
       "      <td>44.0</td>\n",
       "      <td>650</td>\n",
       "      <td>64</td>\n",
       "      <td>0.2</td>\n",
       "      <td>10.0</td>\n",
       "    </tr>\n",
       "    <tr>\n",
       "      <th>40</th>\n",
       "      <td>hidden650_batch128_dropout0.2_lr10.0</td>\n",
       "      <td>82.4</td>\n",
       "      <td>95.7</td>\n",
       "      <td>80.9</td>\n",
       "      <td>44.0</td>\n",
       "      <td>650</td>\n",
       "      <td>128</td>\n",
       "      <td>0.2</td>\n",
       "      <td>10.0</td>\n",
       "    </tr>\n",
       "  </tbody>\n",
       "</table>\n",
       "</div>"
      ],
      "text/plain": [
       "                                   model  acc  acc_original  acc_generated  \\\n",
       "58   hidden650_batch64_dropout0.1_lr20.0 81.3          95.2           79.8   \n",
       "46  hidden650_batch128_dropout0.2_lr20.0 82.3          94.4           81.0   \n",
       "62   hidden650_batch64_dropout0.2_lr20.0 83.2          94.9           81.9   \n",
       "56   hidden650_batch64_dropout0.1_lr10.0 82.3          94.9           80.8   \n",
       "44  hidden650_batch128_dropout0.1_lr20.0 81.7          94.4           80.3   \n",
       "59    hidden650_batch64_dropout0.1_lr5.0 81.1          93.3           79.7   \n",
       "36  hidden650_batch128_dropout0.1_lr10.0 80.7          95.4           79.1   \n",
       "63    hidden650_batch64_dropout0.2_lr5.0 82.5          95.7           81.0   \n",
       "60   hidden650_batch64_dropout0.2_lr10.0 83.5          95.7           82.1   \n",
       "40  hidden650_batch128_dropout0.2_lr10.0 82.4          95.7           80.9   \n",
       "\n",
       "    ppls hidden batch dropout    lr  \n",
       "58  42.3    650    64     0.1  20.0  \n",
       "46  42.4    650   128     0.2  20.0  \n",
       "62  42.5    650    64     0.2  20.0  \n",
       "56  42.7    650    64     0.1  10.0  \n",
       "44  42.7    650   128     0.1  20.0  \n",
       "59  43.6    650    64     0.1   5.0  \n",
       "36  43.8    650   128     0.1  10.0  \n",
       "63  44.0    650    64     0.2   5.0  \n",
       "60  44.0    650    64     0.2  10.0  \n",
       "40  44.0    650   128     0.2  10.0  "
      ]
     },
     "execution_count": 2586,
     "metadata": {},
     "output_type": "execute_result"
    }
   ],
   "source": [
    "a.sort_values(\"ppls\")[:10]"
   ]
  },
  {
   "cell_type": "code",
   "execution_count": 2587,
   "metadata": {},
   "outputs": [
    {
     "data": {
      "text/html": [
       "<div>\n",
       "<style>\n",
       "    .dataframe thead tr:only-child th {\n",
       "        text-align: right;\n",
       "    }\n",
       "\n",
       "    .dataframe thead th {\n",
       "        text-align: left;\n",
       "    }\n",
       "\n",
       "    .dataframe tbody tr th {\n",
       "        vertical-align: top;\n",
       "    }\n",
       "</style>\n",
       "<table border=\"1\" class=\"dataframe\">\n",
       "  <thead>\n",
       "    <tr style=\"text-align: right;\">\n",
       "      <th></th>\n",
       "      <th>model</th>\n",
       "      <th>acc</th>\n",
       "      <th>acc_original</th>\n",
       "      <th>acc_generated</th>\n",
       "      <th>ppls</th>\n",
       "      <th>hidden</th>\n",
       "      <th>batch</th>\n",
       "      <th>dropout</th>\n",
       "      <th>lr</th>\n",
       "    </tr>\n",
       "  </thead>\n",
       "  <tbody>\n",
       "    <tr>\n",
       "      <th>68</th>\n",
       "      <td>freq</td>\n",
       "      <td>63.6</td>\n",
       "      <td>67.8</td>\n",
       "      <td>63.1</td>\n",
       "      <td>nan</td>\n",
       "      <td>_</td>\n",
       "      <td>_</td>\n",
       "      <td>_</td>\n",
       "      <td>_</td>\n",
       "    </tr>\n",
       "  </tbody>\n",
       "</table>\n",
       "</div>"
      ],
      "text/plain": [
       "   model  acc  acc_original  acc_generated  ppls hidden batch dropout lr\n",
       "68  freq 63.6          67.8           63.1   nan      _     _       _  _"
      ]
     },
     "execution_count": 2587,
     "metadata": {},
     "output_type": "execute_result"
    }
   ],
   "source": [
    "a[a.model == \"freq\"]"
   ]
  },
  {
   "cell_type": "markdown",
   "metadata": {},
   "source": [
    "### Compute scores averaged for TOP 5 models"
   ]
  },
  {
   "cell_type": "code",
   "execution_count": 2588,
   "metadata": {},
   "outputs": [
    {
     "data": {
      "text/html": [
       "<div>\n",
       "<style>\n",
       "    .dataframe thead tr:only-child th {\n",
       "        text-align: right;\n",
       "    }\n",
       "\n",
       "    .dataframe thead th {\n",
       "        text-align: left;\n",
       "    }\n",
       "\n",
       "    .dataframe tbody tr th {\n",
       "        vertical-align: top;\n",
       "    }\n",
       "</style>\n",
       "<table border=\"1\" class=\"dataframe\">\n",
       "  <thead>\n",
       "    <tr style=\"text-align: right;\">\n",
       "      <th></th>\n",
       "      <th>acc</th>\n",
       "      <th>acc_original</th>\n",
       "      <th>acc_generated</th>\n",
       "      <th>ppls</th>\n",
       "    </tr>\n",
       "  </thead>\n",
       "  <tbody>\n",
       "    <tr>\n",
       "      <th>mean</th>\n",
       "      <td>82.2</td>\n",
       "      <td>94.7</td>\n",
       "      <td>80.8</td>\n",
       "      <td>42.5</td>\n",
       "    </tr>\n",
       "    <tr>\n",
       "      <th>std</th>\n",
       "      <td>0.7</td>\n",
       "      <td>0.4</td>\n",
       "      <td>0.8</td>\n",
       "      <td>0.2</td>\n",
       "    </tr>\n",
       "  </tbody>\n",
       "</table>\n",
       "</div>"
      ],
      "text/plain": [
       "      acc  acc_original  acc_generated  ppls\n",
       "mean 82.2          94.7           80.8  42.5\n",
       "std   0.7           0.4            0.8   0.2"
      ]
     },
     "execution_count": 2588,
     "metadata": {},
     "output_type": "execute_result"
    }
   ],
   "source": [
    "a.sort_values(\"ppls\")[:5][[\"acc\",\"acc_original\",\"acc_generated\",\"ppls\"]].agg([\"mean\",\"std\"])"
   ]
  },
  {
   "cell_type": "markdown",
   "metadata": {},
   "source": [
    "### Compute ensemble scores for TOP 5 models"
   ]
  },
  {
   "cell_type": "code",
   "execution_count": 2589,
   "metadata": {},
   "outputs": [],
   "source": [
    "majority = []\n",
    "for row in t[top10].iterrows():\n",
    "    #print(row[1])\n",
    "    majority.append(row[1].value_counts().idxmax())\n",
    "t[(\"maj\",\"acc\")] = majority"
   ]
  },
  {
   "cell_type": "code",
   "execution_count": 2590,
   "metadata": {},
   "outputs": [
    {
     "data": {
      "text/html": [
       "<div>\n",
       "<style>\n",
       "    .dataframe thead tr:only-child th {\n",
       "        text-align: right;\n",
       "    }\n",
       "\n",
       "    .dataframe thead th {\n",
       "        text-align: left;\n",
       "    }\n",
       "\n",
       "    .dataframe tbody tr th {\n",
       "        vertical-align: top;\n",
       "    }\n",
       "</style>\n",
       "<table border=\"1\" class=\"dataframe\">\n",
       "  <thead>\n",
       "    <tr style=\"text-align: right;\">\n",
       "      <th></th>\n",
       "      <th>model</th>\n",
       "      <th>acc</th>\n",
       "      <th>acc_original</th>\n",
       "      <th>acc_generated</th>\n",
       "    </tr>\n",
       "  </thead>\n",
       "  <tbody>\n",
       "    <tr>\n",
       "      <th>47</th>\n",
       "      <td>hidden650_batch128_dropout0.2_lr5.0</td>\n",
       "      <td>82.5</td>\n",
       "      <td>95.4</td>\n",
       "      <td>81.1</td>\n",
       "    </tr>\n",
       "    <tr>\n",
       "      <th>62</th>\n",
       "      <td>hidden650_batch64_dropout0.2_lr20.0</td>\n",
       "      <td>83.2</td>\n",
       "      <td>94.9</td>\n",
       "      <td>81.9</td>\n",
       "    </tr>\n",
       "    <tr>\n",
       "      <th>67</th>\n",
       "      <td>hidden650_batch64_dropout0.4_lr5.0</td>\n",
       "      <td>83.3</td>\n",
       "      <td>95.7</td>\n",
       "      <td>81.9</td>\n",
       "    </tr>\n",
       "    <tr>\n",
       "      <th>60</th>\n",
       "      <td>hidden650_batch64_dropout0.2_lr10.0</td>\n",
       "      <td>83.5</td>\n",
       "      <td>95.7</td>\n",
       "      <td>82.1</td>\n",
       "    </tr>\n",
       "    <tr>\n",
       "      <th>48</th>\n",
       "      <td>hidden650_batch128_dropout0.4_lr10.0</td>\n",
       "      <td>83.5</td>\n",
       "      <td>95.4</td>\n",
       "      <td>82.2</td>\n",
       "    </tr>\n",
       "    <tr>\n",
       "      <th>49</th>\n",
       "      <td>hidden650_batch128_dropout0.4_lr20.0</td>\n",
       "      <td>83.6</td>\n",
       "      <td>97.1</td>\n",
       "      <td>82.1</td>\n",
       "    </tr>\n",
       "    <tr>\n",
       "      <th>51</th>\n",
       "      <td>hidden650_batch128_dropout0.4_lr5.0</td>\n",
       "      <td>83.9</td>\n",
       "      <td>94.4</td>\n",
       "      <td>82.8</td>\n",
       "    </tr>\n",
       "    <tr>\n",
       "      <th>64</th>\n",
       "      <td>hidden650_batch64_dropout0.4_lr10.0</td>\n",
       "      <td>84.2</td>\n",
       "      <td>96.2</td>\n",
       "      <td>82.8</td>\n",
       "    </tr>\n",
       "    <tr>\n",
       "      <th>66</th>\n",
       "      <td>hidden650_batch64_dropout0.4_lr20.0</td>\n",
       "      <td>84.3</td>\n",
       "      <td>94.9</td>\n",
       "      <td>83.2</td>\n",
       "    </tr>\n",
       "    <tr>\n",
       "      <th>69</th>\n",
       "      <td>maj</td>\n",
       "      <td>84.6</td>\n",
       "      <td>97.1</td>\n",
       "      <td>83.2</td>\n",
       "    </tr>\n",
       "  </tbody>\n",
       "</table>\n",
       "</div>"
      ],
      "text/plain": [
       "                                   model  acc  acc_original  acc_generated\n",
       "47   hidden650_batch128_dropout0.2_lr5.0 82.5          95.4           81.1\n",
       "62   hidden650_batch64_dropout0.2_lr20.0 83.2          94.9           81.9\n",
       "67    hidden650_batch64_dropout0.4_lr5.0 83.3          95.7           81.9\n",
       "60   hidden650_batch64_dropout0.2_lr10.0 83.5          95.7           82.1\n",
       "48  hidden650_batch128_dropout0.4_lr10.0 83.5          95.4           82.2\n",
       "49  hidden650_batch128_dropout0.4_lr20.0 83.6          97.1           82.1\n",
       "51   hidden650_batch128_dropout0.4_lr5.0 83.9          94.4           82.8\n",
       "64   hidden650_batch64_dropout0.4_lr10.0 84.2          96.2           82.8\n",
       "66   hidden650_batch64_dropout0.4_lr20.0 84.3          94.9           83.2\n",
       "69                                   maj 84.6          97.1           83.2"
      ]
     },
     "execution_count": 2590,
     "metadata": {},
     "output_type": "execute_result"
    }
   ],
   "source": [
    "maj_models = models + [\"maj\"]\n",
    "atop10 = pd.concat([t.agg({(m,\"acc\"):\"mean\" for m in maj_models}), \n",
    "           t[t.sent_id==0].agg({(m,\"acc\"):\"mean\" for m in maj_models}),\n",
    "           t[t.sent_id!=0].agg({(m,\"acc\"):\"mean\" for m in maj_models})],\n",
    "          axis=1)\n",
    "atop10.index = maj_models\n",
    "atop10 = atop10.reset_index()\n",
    "atop10.columns = [\"model\",\"acc\",\"acc_original\",\"acc_generated\"]\n",
    "atop10.acc = atop10.acc * 100\n",
    "atop10.acc_original = atop10.acc_original * 100\n",
    "atop10.acc_generated = atop10.acc_generated * 100\n",
    "atop10.sort_values(\"acc\")[-10:]"
   ]
  },
  {
   "cell_type": "markdown",
   "metadata": {},
   "source": [
    "## Overall accuracies and correlations"
   ]
  },
  {
   "cell_type": "code",
   "execution_count": 2591,
   "metadata": {
    "scrolled": true
   },
   "outputs": [],
   "source": [
    "#import pandas as pd\n",
    "#a = pd.read_csv(path + \"/accuracy.csv\",sep=\"\\t\")"
   ]
  },
  {
   "cell_type": "code",
   "execution_count": 2592,
   "metadata": {},
   "outputs": [
    {
     "name": "stdout",
     "output_type": "stream",
     "text": [
      "69\n"
     ]
    },
    {
     "data": {
      "text/plain": [
       "-0.55327256376346756"
      ]
     },
     "execution_count": 2592,
     "metadata": {},
     "output_type": "execute_result"
    }
   ],
   "source": [
    "print(len(a))\n",
    "a.ppls.corr(a[\"acc\"])"
   ]
  },
  {
   "cell_type": "code",
   "execution_count": 2593,
   "metadata": {},
   "outputs": [
    {
     "name": "stdout",
     "output_type": "stream",
     "text": [
      "The rpy2.ipython extension is already loaded. To reload it, use:\n",
      "  %reload_ext rpy2.ipython\n"
     ]
    }
   ],
   "source": [
    "%load_ext rpy2.ipython"
   ]
  },
  {
   "cell_type": "code",
   "execution_count": 2594,
   "metadata": {
    "collapsed": true
   },
   "outputs": [],
   "source": [
    "%Rpush a "
   ]
  },
  {
   "cell_type": "code",
   "execution_count": 2595,
   "metadata": {},
   "outputs": [
    {
     "data": {
      "image/png": "[encoded data removed]"
     },
     "metadata": {},
     "output_type": "display_data"
    }
   ],
   "source": [
    "%%R -w 600 -h 400\n",
    "library(data.table)\n",
    "library(ggplot2)\n",
    "\n",
    "df = data.table(a)\n",
    "\n",
    "text = element_text(size=20,family=\"ComputerModern\")\n",
    "p = ggplot(a[a$ppls<300 ,], aes(x=ppls,y=acc_original,color=dropout)) + xlab(\"perplexity\") + ylab(\"accuracy\")\n",
    "p + geom_point( size=2.5) + theme(axis.title.x=text, axis.title.y=text, legend.text=text, axis.text.x=element_text(size=15), \n",
    "          axis.text.y=element_text(size=15), strip.text=text)"
   ]
  },
  {
   "cell_type": "code",
   "execution_count": 2596,
   "metadata": {},
   "outputs": [
    {
     "data": {
      "image/png": "[encoded data removed]"
     },
     "metadata": {},
     "output_type": "display_data"
    }
   ],
   "source": [
    "%%R -w 600 -h 400\n",
    "library(data.table)\n",
    "library(ggplot2)\n",
    "\n",
    "df = data.table(a)\n",
    "\n",
    "text = element_text(size=20,family=\"ComputerModern\")\n",
    "p = ggplot(a[a$ppls<300 ,], aes(x=ppls,y=acc_generated,color=dropout)) + xlab(\"perplexity\") + ylab(\"accuracy\")\n",
    "p + geom_point( size=2.5) + theme(axis.title.x=text, axis.title.y=text, legend.text=text, axis.text.x=element_text(size=15), \n",
    "          axis.text.y=element_text(size=15), strip.text=text)"
   ]
  },
  {
   "cell_type": "markdown",
   "metadata": {},
   "source": [
    "## By-pattern evaluation"
   ]
  },
  {
   "cell_type": "code",
   "execution_count": 2597,
   "metadata": {},
   "outputs": [
    {
     "data": {
      "text/plain": [
       "4"
      ]
     },
     "execution_count": 2597,
     "metadata": {},
     "output_type": "execute_result"
    }
   ],
   "source": [
    "len(av)"
   ]
  },
  {
   "cell_type": "code",
   "execution_count": 2598,
   "metadata": {},
   "outputs": [
    {
     "data": {
      "text/plain": [
       "4"
      ]
     },
     "execution_count": 2598,
     "metadata": {},
     "output_type": "execute_result"
    }
   ],
   "source": [
    "len(mean)"
   ]
  },
  {
   "cell_type": "code",
   "execution_count": 2602,
   "metadata": {},
   "outputs": [
    {
     "name": "stderr",
     "output_type": "stream",
     "text": [
      "/private/home/gulordava/anaconda3/lib/python3.6/site-packages/pandas/core/base.py:331: PerformanceWarning: dropping on a non-lexsorted multi-index without a level parameter may impact performance.\n",
      "  return self.obj.drop(self.exclusions, axis=1)\n",
      "/private/home/gulordava/anaconda3/lib/python3.6/site-packages/ipykernel_launcher.py:13: SettingWithCopyWarning: \n",
      "A value is trying to be set on a copy of a slice from a DataFrame.\n",
      "Try using .loc[row_indexer,col_indexer] = value instead\n",
      "\n",
      "See the caveats in the documentation: http://pandas.pydata.org/pandas-docs/stable/indexing.html#indexing-view-versus-copy\n",
      "  del sys.path[0]\n",
      "/private/home/gulordava/anaconda3/lib/python3.6/site-packages/ipykernel_launcher.py:14: SettingWithCopyWarning: \n",
      "A value is trying to be set on a copy of a slice from a DataFrame.\n",
      "Try using .loc[row_indexer,col_indexer] = value instead\n",
      "\n",
      "See the caveats in the documentation: http://pandas.pydata.org/pandas-docs/stable/indexing.html#indexing-view-versus-copy\n",
      "  \n",
      "/private/home/gulordava/anaconda3/lib/python3.6/site-packages/ipykernel_launcher.py:17: SettingWithCopyWarning: \n",
      "A value is trying to be set on a copy of a slice from a DataFrame.\n",
      "Try using .loc[row_indexer,col_indexer] = value instead\n",
      "\n",
      "See the caveats in the documentation: http://pandas.pydata.org/pandas-docs/stable/indexing.html#indexing-view-versus-copy\n",
      "/private/home/gulordava/anaconda3/lib/python3.6/site-packages/ipykernel_launcher.py:18: SettingWithCopyWarning: \n",
      "A value is trying to be set on a copy of a slice from a DataFrame.\n",
      "Try using .loc[row_indexer,col_indexer] = value instead\n",
      "\n",
      "See the caveats in the documentation: http://pandas.pydata.org/pandas-docs/stable/indexing.html#indexing-view-versus-copy\n"
     ]
    },
    {
     "data": {
      "text/html": [
       "<div>\n",
       "<style>\n",
       "    .dataframe thead tr:only-child th {\n",
       "        text-align: right;\n",
       "    }\n",
       "\n",
       "    .dataframe thead th {\n",
       "        text-align: left;\n",
       "    }\n",
       "\n",
       "    .dataframe tbody tr th {\n",
       "        vertical-align: top;\n",
       "    }\n",
       "</style>\n",
       "<table border=\"1\" class=\"dataframe\">\n",
       "  <thead>\n",
       "    <tr style=\"text-align: right;\">\n",
       "      <th></th>\n",
       "      <th>pattern</th>\n",
       "      <th>top5_mean</th>\n",
       "      <th>top5_std</th>\n",
       "      <th>top5_mean_gen</th>\n",
       "      <th>top5_std_gen</th>\n",
       "      <th>size</th>\n",
       "    </tr>\n",
       "  </thead>\n",
       "  <tbody>\n",
       "    <tr>\n",
       "      <th>1</th>\n",
       "      <td>NOUN ADJ PROPN VERB</td>\n",
       "      <td>100.0</td>\n",
       "      <td>0.0</td>\n",
       "      <td>61.8</td>\n",
       "      <td>9.5</td>\n",
       "      <td>50</td>\n",
       "    </tr>\n",
       "    <tr>\n",
       "      <th>3</th>\n",
       "      <td>NOUN NOUN ADJ VERB</td>\n",
       "      <td>100.0</td>\n",
       "      <td>0.0</td>\n",
       "      <td>90.7</td>\n",
       "      <td>3.5</td>\n",
       "      <td>60</td>\n",
       "    </tr>\n",
       "    <tr>\n",
       "      <th>5</th>\n",
       "      <td>NOUN NOUN PROPN VERB</td>\n",
       "      <td>100.0</td>\n",
       "      <td>0.0</td>\n",
       "      <td>80.0</td>\n",
       "      <td>4.2</td>\n",
       "      <td>30</td>\n",
       "    </tr>\n",
       "    <tr>\n",
       "      <th>7</th>\n",
       "      <td>NOUN PROPN VERB</td>\n",
       "      <td>100.0</td>\n",
       "      <td>0.0</td>\n",
       "      <td>100.0</td>\n",
       "      <td>0.0</td>\n",
       "      <td>10</td>\n",
       "    </tr>\n",
       "    <tr>\n",
       "      <th>9</th>\n",
       "      <td>NOUN VERB PUNCT VERB</td>\n",
       "      <td>95.0</td>\n",
       "      <td>11.2</td>\n",
       "      <td>81.7</td>\n",
       "      <td>4.2</td>\n",
       "      <td>40</td>\n",
       "    </tr>\n",
       "    <tr>\n",
       "      <th>11</th>\n",
       "      <td>NOUN VERB VERB</td>\n",
       "      <td>86.7</td>\n",
       "      <td>9.3</td>\n",
       "      <td>65.7</td>\n",
       "      <td>4.1</td>\n",
       "      <td>90</td>\n",
       "    </tr>\n",
       "    <tr>\n",
       "      <th>13</th>\n",
       "      <td>NOUN ADJ DET ADJ</td>\n",
       "      <td>99.4</td>\n",
       "      <td>0.8</td>\n",
       "      <td>96.4</td>\n",
       "      <td>1.0</td>\n",
       "      <td>710</td>\n",
       "    </tr>\n",
       "    <tr>\n",
       "      <th>15</th>\n",
       "      <td>NOUN ADJ PUNCT SCONJ VERB</td>\n",
       "      <td>98.8</td>\n",
       "      <td>2.8</td>\n",
       "      <td>89.6</td>\n",
       "      <td>1.8</td>\n",
       "      <td>160</td>\n",
       "    </tr>\n",
       "    <tr>\n",
       "      <th>17</th>\n",
       "      <td>NOUN DET ADV PUNCT ADJ</td>\n",
       "      <td>93.3</td>\n",
       "      <td>5.3</td>\n",
       "      <td>81.2</td>\n",
       "      <td>4.6</td>\n",
       "      <td>300</td>\n",
       "    </tr>\n",
       "    <tr>\n",
       "      <th>19</th>\n",
       "      <td>NOUN NOUN DET ADJ</td>\n",
       "      <td>94.2</td>\n",
       "      <td>1.0</td>\n",
       "      <td>77.6</td>\n",
       "      <td>0.9</td>\n",
       "      <td>1520</td>\n",
       "    </tr>\n",
       "    <tr>\n",
       "      <th>21</th>\n",
       "      <td>NOUN NOUN PUNCT SCONJ VERB</td>\n",
       "      <td>90.5</td>\n",
       "      <td>6.7</td>\n",
       "      <td>73.9</td>\n",
       "      <td>2.7</td>\n",
       "      <td>210</td>\n",
       "    </tr>\n",
       "    <tr>\n",
       "      <th>23</th>\n",
       "      <td>NOUN PUNCT NOUN CCONJ NOUN</td>\n",
       "      <td>96.7</td>\n",
       "      <td>4.6</td>\n",
       "      <td>50.7</td>\n",
       "      <td>3.7</td>\n",
       "      <td>120</td>\n",
       "    </tr>\n",
       "    <tr>\n",
       "      <th>25</th>\n",
       "      <td>NOUN PUNCT NOUN PUNCT NOUN</td>\n",
       "      <td>98.3</td>\n",
       "      <td>3.7</td>\n",
       "      <td>68.3</td>\n",
       "      <td>4.1</td>\n",
       "      <td>120</td>\n",
       "    </tr>\n",
       "    <tr>\n",
       "      <th>27</th>\n",
       "      <td>VERB NOUN CCONJ VERB</td>\n",
       "      <td>83.3</td>\n",
       "      <td>5.9</td>\n",
       "      <td>83.1</td>\n",
       "      <td>2.8</td>\n",
       "      <td>240</td>\n",
       "    </tr>\n",
       "    <tr>\n",
       "      <th>29</th>\n",
       "      <td>VERB NOUN NOUN CCONJ VERB</td>\n",
       "      <td>100.0</td>\n",
       "      <td>0.0</td>\n",
       "      <td>80.0</td>\n",
       "      <td>9.3</td>\n",
       "      <td>10</td>\n",
       "    </tr>\n",
       "    <tr>\n",
       "      <th>31</th>\n",
       "      <td>VERB NOUN PUNCT CCONJ VERB</td>\n",
       "      <td>100.0</td>\n",
       "      <td>0.0</td>\n",
       "      <td>73.9</td>\n",
       "      <td>5.4</td>\n",
       "      <td>40</td>\n",
       "    </tr>\n",
       "    <tr>\n",
       "      <th>33</th>\n",
       "      <td>VERB VERB CCONJ VERB</td>\n",
       "      <td>90.0</td>\n",
       "      <td>22.4</td>\n",
       "      <td>73.3</td>\n",
       "      <td>9.1</td>\n",
       "      <td>20</td>\n",
       "    </tr>\n",
       "  </tbody>\n",
       "</table>\n",
       "</div>"
      ],
      "text/plain": [
       "                        pattern  top5_mean  top5_std  top5_mean_gen  \\\n",
       "1           NOUN ADJ PROPN VERB      100.0       0.0           61.8   \n",
       "3            NOUN NOUN ADJ VERB      100.0       0.0           90.7   \n",
       "5          NOUN NOUN PROPN VERB      100.0       0.0           80.0   \n",
       "7               NOUN PROPN VERB      100.0       0.0          100.0   \n",
       "9          NOUN VERB PUNCT VERB       95.0      11.2           81.7   \n",
       "11               NOUN VERB VERB       86.7       9.3           65.7   \n",
       "13             NOUN ADJ DET ADJ       99.4       0.8           96.4   \n",
       "15    NOUN ADJ PUNCT SCONJ VERB       98.8       2.8           89.6   \n",
       "17       NOUN DET ADV PUNCT ADJ       93.3       5.3           81.2   \n",
       "19            NOUN NOUN DET ADJ       94.2       1.0           77.6   \n",
       "21   NOUN NOUN PUNCT SCONJ VERB       90.5       6.7           73.9   \n",
       "23   NOUN PUNCT NOUN CCONJ NOUN       96.7       4.6           50.7   \n",
       "25   NOUN PUNCT NOUN PUNCT NOUN       98.3       3.7           68.3   \n",
       "27         VERB NOUN CCONJ VERB       83.3       5.9           83.1   \n",
       "29    VERB NOUN NOUN CCONJ VERB      100.0       0.0           80.0   \n",
       "31   VERB NOUN PUNCT CCONJ VERB      100.0       0.0           73.9   \n",
       "33         VERB VERB CCONJ VERB       90.0      22.4           73.3   \n",
       "\n",
       "    top5_std_gen  size  \n",
       "1            9.5    50  \n",
       "3            3.5    60  \n",
       "5            4.2    30  \n",
       "7            0.0    10  \n",
       "9            4.2    40  \n",
       "11           4.1    90  \n",
       "13           1.0   710  \n",
       "15           1.8   160  \n",
       "17           4.6   300  \n",
       "19           0.9  1520  \n",
       "21           2.7   210  \n",
       "23           3.7   120  \n",
       "25           4.1   120  \n",
       "27           2.8   240  \n",
       "29           9.3    10  \n",
       "31           5.4    40  \n",
       "33           9.1    20  "
      ]
     },
     "execution_count": 2602,
     "metadata": {},
     "output_type": "execute_result"
    }
   ],
   "source": [
    "av = t[[\"pattern\",\"type\"] + top10].groupby([\"pattern\",\"type\"]).mean()[[(m, \"acc\") for m in top10]]*100\n",
    "mean = av.agg(\"mean\",axis=1).reset_index()[0]\n",
    "std = av.agg(\"std\",axis=1).reset_index()[0]\n",
    "av[\"top5_mean\"] = list(mean)\n",
    "av[\"top5_std\"] = list(std)\n",
    "\n",
    "av = av[[\"top5_mean\",\"top5_std\"]]\n",
    "av = av.reset_index()\n",
    "part1 = av[av[\"type\"] == \"generated\"]\n",
    "part1.columns = part1.columns.droplevel(1)\n",
    "part2 = av[av[\"type\"] == \"original\"]\n",
    "part2.columns = part2.columns.droplevel(1)\n",
    "part2[\"top5_mean_gen\"] = list(part1[\"top5_mean\"])\n",
    "part2[\"top5_std_gen\"] = list(part1[\"top5_std\"])\n",
    "part2\n",
    "\n",
    "part2[\"pattern\"] = [\" \".join(p.split(\"_\")[1:]) for p in list(part2[\"pattern\"])]\n",
    "part2[\"size\"] = list(t.groupby(\"pattern\").size())\n",
    "part2.drop(\"type\",axis=1)"
   ]
  },
  {
   "cell_type": "code",
   "execution_count": 2600,
   "metadata": {},
   "outputs": [],
   "source": [
    "top = t[top10]\n",
    "#t.groupby(\"pattern\").mean()"
   ]
  },
  {
   "cell_type": "code",
   "execution_count": 2601,
   "metadata": {},
   "outputs": [
    {
     "ename": "KeyError",
     "evalue": "\"['acc' 'acc_original' 'acc_generated' 'ppls'] not in index\"",
     "output_type": "error",
     "traceback": [
      "\u001b[0;31m---------------------------------------------------------------------------\u001b[0m",
      "\u001b[0;31mKeyError\u001b[0m                                  Traceback (most recent call last)",
      "\u001b[0;32m<ipython-input-2601-a2470ba884ab>\u001b[0m in \u001b[0;36m<module>\u001b[0;34m()\u001b[0m\n\u001b[0;32m----> 1\u001b[0;31m \u001b[0mt\u001b[0m\u001b[0;34m[\u001b[0m\u001b[0mtop10\u001b[0m \u001b[0;34m+\u001b[0m \u001b[0;34m[\u001b[0m\u001b[0;34m\"acc\"\u001b[0m\u001b[0;34m,\u001b[0m\u001b[0;34m\"acc_original\"\u001b[0m\u001b[0;34m,\u001b[0m\u001b[0;34m\"acc_generated\"\u001b[0m\u001b[0;34m,\u001b[0m\u001b[0;34m\"ppls\"\u001b[0m\u001b[0;34m,\u001b[0m\u001b[0;34m\"pattern\"\u001b[0m\u001b[0;34m]\u001b[0m\u001b[0;34m]\u001b[0m\u001b[0;34m.\u001b[0m\u001b[0magg\u001b[0m\u001b[0;34m(\u001b[0m\u001b[0;34m[\u001b[0m\u001b[0;34m\"mean\"\u001b[0m\u001b[0;34m,\u001b[0m\u001b[0;34m\"std\"\u001b[0m\u001b[0;34m]\u001b[0m\u001b[0;34m)\u001b[0m\u001b[0;34m\u001b[0m\u001b[0m\n\u001b[0m",
      "\u001b[0;32m/private/home/gulordava/anaconda3/lib/python3.6/site-packages/pandas/core/frame.py\u001b[0m in \u001b[0;36m__getitem__\u001b[0;34m(self, key)\u001b[0m\n\u001b[1;32m   1956\u001b[0m         \u001b[0;32mif\u001b[0m \u001b[0misinstance\u001b[0m\u001b[0;34m(\u001b[0m\u001b[0mkey\u001b[0m\u001b[0;34m,\u001b[0m \u001b[0;34m(\u001b[0m\u001b[0mSeries\u001b[0m\u001b[0;34m,\u001b[0m \u001b[0mnp\u001b[0m\u001b[0;34m.\u001b[0m\u001b[0mndarray\u001b[0m\u001b[0;34m,\u001b[0m \u001b[0mIndex\u001b[0m\u001b[0;34m,\u001b[0m \u001b[0mlist\u001b[0m\u001b[0;34m)\u001b[0m\u001b[0;34m)\u001b[0m\u001b[0;34m:\u001b[0m\u001b[0;34m\u001b[0m\u001b[0m\n\u001b[1;32m   1957\u001b[0m             \u001b[0;31m# either boolean or fancy integer index\u001b[0m\u001b[0;34m\u001b[0m\u001b[0;34m\u001b[0m\u001b[0m\n\u001b[0;32m-> 1958\u001b[0;31m             \u001b[0;32mreturn\u001b[0m \u001b[0mself\u001b[0m\u001b[0;34m.\u001b[0m\u001b[0m_getitem_array\u001b[0m\u001b[0;34m(\u001b[0m\u001b[0mkey\u001b[0m\u001b[0;34m)\u001b[0m\u001b[0;34m\u001b[0m\u001b[0m\n\u001b[0m\u001b[1;32m   1959\u001b[0m         \u001b[0;32melif\u001b[0m \u001b[0misinstance\u001b[0m\u001b[0;34m(\u001b[0m\u001b[0mkey\u001b[0m\u001b[0;34m,\u001b[0m \u001b[0mDataFrame\u001b[0m\u001b[0;34m)\u001b[0m\u001b[0;34m:\u001b[0m\u001b[0;34m\u001b[0m\u001b[0m\n\u001b[1;32m   1960\u001b[0m             \u001b[0;32mreturn\u001b[0m \u001b[0mself\u001b[0m\u001b[0;34m.\u001b[0m\u001b[0m_getitem_frame\u001b[0m\u001b[0;34m(\u001b[0m\u001b[0mkey\u001b[0m\u001b[0;34m)\u001b[0m\u001b[0;34m\u001b[0m\u001b[0m\n",
      "\u001b[0;32m/private/home/gulordava/anaconda3/lib/python3.6/site-packages/pandas/core/frame.py\u001b[0m in \u001b[0;36m_getitem_array\u001b[0;34m(self, key)\u001b[0m\n\u001b[1;32m   2000\u001b[0m             \u001b[0;32mreturn\u001b[0m \u001b[0mself\u001b[0m\u001b[0;34m.\u001b[0m\u001b[0mtake\u001b[0m\u001b[0;34m(\u001b[0m\u001b[0mindexer\u001b[0m\u001b[0;34m,\u001b[0m \u001b[0maxis\u001b[0m\u001b[0;34m=\u001b[0m\u001b[0;36m0\u001b[0m\u001b[0;34m,\u001b[0m \u001b[0mconvert\u001b[0m\u001b[0;34m=\u001b[0m\u001b[0;32mFalse\u001b[0m\u001b[0;34m)\u001b[0m\u001b[0;34m\u001b[0m\u001b[0m\n\u001b[1;32m   2001\u001b[0m         \u001b[0;32melse\u001b[0m\u001b[0;34m:\u001b[0m\u001b[0;34m\u001b[0m\u001b[0m\n\u001b[0;32m-> 2002\u001b[0;31m             \u001b[0mindexer\u001b[0m \u001b[0;34m=\u001b[0m \u001b[0mself\u001b[0m\u001b[0;34m.\u001b[0m\u001b[0mloc\u001b[0m\u001b[0;34m.\u001b[0m\u001b[0m_convert_to_indexer\u001b[0m\u001b[0;34m(\u001b[0m\u001b[0mkey\u001b[0m\u001b[0;34m,\u001b[0m \u001b[0maxis\u001b[0m\u001b[0;34m=\u001b[0m\u001b[0;36m1\u001b[0m\u001b[0;34m)\u001b[0m\u001b[0;34m\u001b[0m\u001b[0m\n\u001b[0m\u001b[1;32m   2003\u001b[0m             \u001b[0;32mreturn\u001b[0m \u001b[0mself\u001b[0m\u001b[0;34m.\u001b[0m\u001b[0mtake\u001b[0m\u001b[0;34m(\u001b[0m\u001b[0mindexer\u001b[0m\u001b[0;34m,\u001b[0m \u001b[0maxis\u001b[0m\u001b[0;34m=\u001b[0m\u001b[0;36m1\u001b[0m\u001b[0;34m,\u001b[0m \u001b[0mconvert\u001b[0m\u001b[0;34m=\u001b[0m\u001b[0;32mTrue\u001b[0m\u001b[0;34m)\u001b[0m\u001b[0;34m\u001b[0m\u001b[0m\n\u001b[1;32m   2004\u001b[0m \u001b[0;34m\u001b[0m\u001b[0m\n",
      "\u001b[0;32m/private/home/gulordava/anaconda3/lib/python3.6/site-packages/pandas/core/indexing.py\u001b[0m in \u001b[0;36m_convert_to_indexer\u001b[0;34m(self, obj, axis, is_setter)\u001b[0m\n\u001b[1;32m   1211\u001b[0m                 \u001b[0;31m# if it cannot handle\u001b[0m\u001b[0;34m\u001b[0m\u001b[0;34m\u001b[0m\u001b[0m\n\u001b[1;32m   1212\u001b[0m                 indexer, objarr = labels._convert_listlike_indexer(\n\u001b[0;32m-> 1213\u001b[0;31m                     obj, kind=self.name)\n\u001b[0m\u001b[1;32m   1214\u001b[0m                 \u001b[0;32mif\u001b[0m \u001b[0mindexer\u001b[0m \u001b[0;32mis\u001b[0m \u001b[0;32mnot\u001b[0m \u001b[0;32mNone\u001b[0m\u001b[0;34m:\u001b[0m\u001b[0;34m\u001b[0m\u001b[0m\n\u001b[1;32m   1215\u001b[0m                     \u001b[0;32mreturn\u001b[0m \u001b[0mindexer\u001b[0m\u001b[0;34m\u001b[0m\u001b[0m\n",
      "\u001b[0;32m/private/home/gulordava/anaconda3/lib/python3.6/site-packages/pandas/core/indexes/multi.py\u001b[0m in \u001b[0;36m_convert_listlike_indexer\u001b[0;34m(self, keyarr, kind)\u001b[0m\n\u001b[1;32m   1765\u001b[0m             \u001b[0mmask\u001b[0m \u001b[0;34m=\u001b[0m \u001b[0mcheck\u001b[0m \u001b[0;34m==\u001b[0m \u001b[0;34m-\u001b[0m\u001b[0;36m1\u001b[0m\u001b[0;34m\u001b[0m\u001b[0m\n\u001b[1;32m   1766\u001b[0m             \u001b[0;32mif\u001b[0m \u001b[0mmask\u001b[0m\u001b[0;34m.\u001b[0m\u001b[0many\u001b[0m\u001b[0;34m(\u001b[0m\u001b[0;34m)\u001b[0m\u001b[0;34m:\u001b[0m\u001b[0;34m\u001b[0m\u001b[0m\n\u001b[0;32m-> 1767\u001b[0;31m                 \u001b[0;32mraise\u001b[0m \u001b[0mKeyError\u001b[0m\u001b[0;34m(\u001b[0m\u001b[0;34m'%s not in index'\u001b[0m \u001b[0;34m%\u001b[0m \u001b[0mkeyarr\u001b[0m\u001b[0;34m[\u001b[0m\u001b[0mmask\u001b[0m\u001b[0;34m]\u001b[0m\u001b[0;34m)\u001b[0m\u001b[0;34m\u001b[0m\u001b[0m\n\u001b[0m\u001b[1;32m   1768\u001b[0m \u001b[0;34m\u001b[0m\u001b[0m\n\u001b[1;32m   1769\u001b[0m         \u001b[0;32mreturn\u001b[0m \u001b[0mindexer\u001b[0m\u001b[0;34m,\u001b[0m \u001b[0mkeyarr\u001b[0m\u001b[0;34m\u001b[0m\u001b[0m\n",
      "\u001b[0;31mKeyError\u001b[0m: \"['acc' 'acc_original' 'acc_generated' 'ppls'] not in index\""
     ]
    }
   ],
   "source": [
    "t[top10 + [\"acc\",\"acc_original\",\"acc_generated\",\"ppls\",\"pattern\"]].agg([\"mean\",\"std\"])"
   ]
  }
 ],
 "metadata": {
  "kernelspec": {
   "display_name": "Python 3",
   "language": "python",
   "name": "python3"
  },
  "language_info": {
   "codemirror_mode": {
    "name": "ipython",
    "version": 3
   },
   "file_extension": ".py",
   "mimetype": "text/x-python",
   "name": "python",
   "nbconvert_exporter": "python",
   "pygments_lexer": "ipython3",
   "version": "3.6.1"
  },
  "toc": {
   "nav_menu": {},
   "number_sections": true,
   "sideBar": true,
   "skip_h1_title": false,
   "toc_cell": false,
   "toc_position": {
    "height": "673px",
    "left": "0px",
    "right": "1193px",
    "top": "107px",
    "width": "212px"
   },
   "toc_section_display": "block",
   "toc_window_display": true
  }
 },
 "nbformat": 4,
 "nbformat_minor": 2
}
